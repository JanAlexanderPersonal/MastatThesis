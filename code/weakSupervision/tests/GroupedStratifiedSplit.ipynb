{
 "cells": [
  {
   "cell_type": "markdown",
   "id": "90e70c0d",
   "metadata": {},
   "source": [
    "## Test prior extend value"
   ]
  },
  {
   "cell_type": "code",
   "execution_count": 46,
   "id": "d47165b3",
   "metadata": {},
   "outputs": [],
   "source": [
    "import numpy as np\n",
    "import pandas as pd\n",
    "from matplotlib import cm\n",
    "import matplotlib.pyplot as plt\n",
    "import os\n",
    "\n",
    "RANDOM_SEED = 1"
   ]
  },
  {
   "cell_type": "code",
   "execution_count": 47,
   "metadata": {},
   "outputs": [],
   "source": [
    "import sys\n",
    "sys.path.append(os.path.abspath('../src/datasets/'))\n",
    "\n",
    "from StratifiedGroupKFold import StratifiedGroupKFold"
   ]
  },
  {
   "cell_type": "code",
   "execution_count": 48,
   "metadata": {},
   "outputs": [],
   "source": [
    "USB_PATH = '/media/jan/JAL/data/'\n",
    "test_file = os.path.join(USB_PATH, 'test_full.csv')"
   ]
  },
  {
   "cell_type": "code",
   "execution_count": 49,
   "metadata": {},
   "outputs": [
    {
     "output_type": "execute_result",
     "data": {
      "text/plain": [
       "                                                 img  \\\n",
       "0  /root/space/output/dataset_1_contrast_0/xVertS...   \n",
       "1  /root/space/output/dataset_1_contrast_0/xVertS...   \n",
       "2  /root/space/output/dataset_1_contrast_0/xVertS...   \n",
       "3  /root/space/output/dataset_1_contrast_0/xVertS...   \n",
       "4  /root/space/output/dataset_1_contrast_0/xVertS...   \n",
       "\n",
       "                                                 tgt       scan_id  slice_id  \\\n",
       "0  /root/space/output/dataset_1_contrast_0/xVertS...  xVertSeg_004         9   \n",
       "1  /root/space/output/dataset_1_contrast_0/xVertS...  xVertSeg_004       397   \n",
       "2  /root/space/output/dataset_1_contrast_0/xVertS...  xVertSeg_004       192   \n",
       "3  /root/space/output/dataset_1_contrast_0/xVertS...  xVertSeg_004       183   \n",
       "4  /root/space/output/dataset_1_contrast_0/xVertS...  xVertSeg_004       355   \n",
       "\n",
       "        patient    source  \n",
       "0  xVertSeg_000  xVertSeg  \n",
       "1  xVertSeg_000  xVertSeg  \n",
       "2  xVertSeg_000  xVertSeg  \n",
       "3  xVertSeg_000  xVertSeg  \n",
       "4  xVertSeg_000  xVertSeg  "
      ],
      "text/html": "<div>\n<style scoped>\n    .dataframe tbody tr th:only-of-type {\n        vertical-align: middle;\n    }\n\n    .dataframe tbody tr th {\n        vertical-align: top;\n    }\n\n    .dataframe thead th {\n        text-align: right;\n    }\n</style>\n<table border=\"1\" class=\"dataframe\">\n  <thead>\n    <tr style=\"text-align: right;\">\n      <th></th>\n      <th>img</th>\n      <th>tgt</th>\n      <th>scan_id</th>\n      <th>slice_id</th>\n      <th>patient</th>\n      <th>source</th>\n    </tr>\n  </thead>\n  <tbody>\n    <tr>\n      <th>0</th>\n      <td>/root/space/output/dataset_1_contrast_0/xVertS...</td>\n      <td>/root/space/output/dataset_1_contrast_0/xVertS...</td>\n      <td>xVertSeg_004</td>\n      <td>9</td>\n      <td>xVertSeg_000</td>\n      <td>xVertSeg</td>\n    </tr>\n    <tr>\n      <th>1</th>\n      <td>/root/space/output/dataset_1_contrast_0/xVertS...</td>\n      <td>/root/space/output/dataset_1_contrast_0/xVertS...</td>\n      <td>xVertSeg_004</td>\n      <td>397</td>\n      <td>xVertSeg_000</td>\n      <td>xVertSeg</td>\n    </tr>\n    <tr>\n      <th>2</th>\n      <td>/root/space/output/dataset_1_contrast_0/xVertS...</td>\n      <td>/root/space/output/dataset_1_contrast_0/xVertS...</td>\n      <td>xVertSeg_004</td>\n      <td>192</td>\n      <td>xVertSeg_000</td>\n      <td>xVertSeg</td>\n    </tr>\n    <tr>\n      <th>3</th>\n      <td>/root/space/output/dataset_1_contrast_0/xVertS...</td>\n      <td>/root/space/output/dataset_1_contrast_0/xVertS...</td>\n      <td>xVertSeg_004</td>\n      <td>183</td>\n      <td>xVertSeg_000</td>\n      <td>xVertSeg</td>\n    </tr>\n    <tr>\n      <th>4</th>\n      <td>/root/space/output/dataset_1_contrast_0/xVertS...</td>\n      <td>/root/space/output/dataset_1_contrast_0/xVertS...</td>\n      <td>xVertSeg_004</td>\n      <td>355</td>\n      <td>xVertSeg_000</td>\n      <td>xVertSeg</td>\n    </tr>\n  </tbody>\n</table>\n</div>"
     },
     "metadata": {},
     "execution_count": 49
    }
   ],
   "source": [
    "data_df = pd.read_csv(test_file, index_col=0)\n",
    "data_df.head()"
   ]
  },
  {
   "cell_type": "code",
   "execution_count": 50,
   "metadata": {},
   "outputs": [
    {
     "output_type": "execute_result",
     "data": {
      "text/plain": [
       "source\n",
       "MyoSegmenTUM    11934\n",
       "USiegen          6297\n",
       "xVertSeg         6265\n",
       "Name: slice_id, dtype: int64"
      ]
     },
     "metadata": {},
     "execution_count": 50
    }
   ],
   "source": [
    "data_df.groupby(['source']).slice_id.count()"
   ]
  },
  {
   "cell_type": "code",
   "execution_count": 51,
   "metadata": {},
   "outputs": [
    {
     "output_type": "execute_result",
     "data": {
      "text/plain": [
       "scan_id\n",
       "MyoSegmenTUM_001    221\n",
       "MyoSegmenTUM_002    221\n",
       "MyoSegmenTUM_003    221\n",
       "MyoSegmenTUM_004    221\n",
       "MyoSegmenTUM_005    221\n",
       "                   ... \n",
       "xVertSeg_011        319\n",
       "xVertSeg_012        314\n",
       "xVertSeg_013        338\n",
       "xVertSeg_014        558\n",
       "xVertSeg_015        404\n",
       "Name: slice_id, Length: 86, dtype: int64"
      ]
     },
     "metadata": {},
     "execution_count": 51
    }
   ],
   "source": [
    "data_df.groupby(['scan_id']).slice_id.count()\n"
   ]
  },
  {
   "cell_type": "code",
   "execution_count": 52,
   "metadata": {},
   "outputs": [],
   "source": [
    "dev_test_split = StratifiedGroupKFold(n_splits=6, random_state=RANDOM_SEED, shuffle=True)\n",
    "train_val_split = StratifiedGroupKFold(n_splits=5, random_state=RANDOM_SEED, shuffle=True)\n",
    "\n",
    "ix_dev, ix_test = next(dev_test_split.split(X = data_df.slice_id, y = data_df.source, groups = data_df.scan_id ))\n",
    "\n",
    "dev_df, test_df = data_df.iloc[ix_dev], data_df.iloc[ix_test]\n",
    "ix_train, ix_val = next(train_val_split.split(X = dev_df.slice_id, y = dev_df.source, groups = dev_df.scan_id ))\n",
    "train_df, val_df = dev_df.iloc[ix_train], dev_df.iloc[ix_val]"
   ]
  },
  {
   "cell_type": "code",
   "execution_count": 56,
   "metadata": {},
   "outputs": [],
   "source": [
    "counts = pd.concat([df.groupby(['source']).scan_id.count().rename(name) for df, name in zip([train_df, test_df, val_df], ['train', 'test', 'val'])], axis= 1)"
   ]
  },
  {
   "cell_type": "code",
   "execution_count": 57,
   "metadata": {},
   "outputs": [
    {
     "output_type": "execute_result",
     "data": {
      "text/plain": [
       "              train  test   val\n",
       "source                         \n",
       "MyoSegmenTUM   7956  1989  1989\n",
       "USiegen        4165  1090  1042\n",
       "xVertSeg       4446   896   923"
      ],
      "text/html": "<div>\n<style scoped>\n    .dataframe tbody tr th:only-of-type {\n        vertical-align: middle;\n    }\n\n    .dataframe tbody tr th {\n        vertical-align: top;\n    }\n\n    .dataframe thead th {\n        text-align: right;\n    }\n</style>\n<table border=\"1\" class=\"dataframe\">\n  <thead>\n    <tr style=\"text-align: right;\">\n      <th></th>\n      <th>train</th>\n      <th>test</th>\n      <th>val</th>\n    </tr>\n    <tr>\n      <th>source</th>\n      <th></th>\n      <th></th>\n      <th></th>\n    </tr>\n  </thead>\n  <tbody>\n    <tr>\n      <th>MyoSegmenTUM</th>\n      <td>7956</td>\n      <td>1989</td>\n      <td>1989</td>\n    </tr>\n    <tr>\n      <th>USiegen</th>\n      <td>4165</td>\n      <td>1090</td>\n      <td>1042</td>\n    </tr>\n    <tr>\n      <th>xVertSeg</th>\n      <td>4446</td>\n      <td>896</td>\n      <td>923</td>\n    </tr>\n  </tbody>\n</table>\n</div>"
     },
     "metadata": {},
     "execution_count": 57
    }
   ],
   "source": [
    "counts"
   ]
  },
  {
   "cell_type": "code",
   "execution_count": null,
   "metadata": {},
   "outputs": [],
   "source": []
  }
 ],
 "metadata": {
  "interpreter": {
   "hash": "cfe07b014d4870367da8a0513530648d8087115be69e8698b1821f7bb106330b"
  },
  "kernelspec": {
   "name": "python3",
   "display_name": "Python 3.7.6 64-bit ('base': conda)"
  },
  "language_info": {
   "codemirror_mode": {
    "name": "ipython",
    "version": 3
   },
   "file_extension": ".py",
   "mimetype": "text/x-python",
   "name": "python",
   "nbconvert_exporter": "python",
   "pygments_lexer": "ipython3",
   "version": "3.7.6"
  },
  "metadata": {
   "interpreter": {
    "hash": "cfe07b014d4870367da8a0513530648d8087115be69e8698b1821f7bb106330b"
   }
  }
 },
 "nbformat": 4,
 "nbformat_minor": 5
}
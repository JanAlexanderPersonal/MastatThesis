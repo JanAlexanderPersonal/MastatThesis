{
 "cells": [
  {
   "cell_type": "markdown",
   "metadata": {},
   "source": [
    "# Dataset analysis "
   ]
  },
  {
   "cell_type": "code",
   "execution_count": 9,
   "metadata": {},
   "outputs": [
    {
     "data": {
      "text/html": [
       "<svg  width=\"550\" height=\"55\"><rect x=\"0\" y=\"0\" width=\"55\" height=\"55\" style=\"fill:#0173b2;stroke-width:2;stroke:rgb(255,255,255)\"/><rect x=\"55\" y=\"0\" width=\"55\" height=\"55\" style=\"fill:#de8f05;stroke-width:2;stroke:rgb(255,255,255)\"/><rect x=\"110\" y=\"0\" width=\"55\" height=\"55\" style=\"fill:#029e73;stroke-width:2;stroke:rgb(255,255,255)\"/><rect x=\"165\" y=\"0\" width=\"55\" height=\"55\" style=\"fill:#d55e00;stroke-width:2;stroke:rgb(255,255,255)\"/><rect x=\"220\" y=\"0\" width=\"55\" height=\"55\" style=\"fill:#cc78bc;stroke-width:2;stroke:rgb(255,255,255)\"/><rect x=\"275\" y=\"0\" width=\"55\" height=\"55\" style=\"fill:#ca9161;stroke-width:2;stroke:rgb(255,255,255)\"/><rect x=\"330\" y=\"0\" width=\"55\" height=\"55\" style=\"fill:#fbafe4;stroke-width:2;stroke:rgb(255,255,255)\"/><rect x=\"385\" y=\"0\" width=\"55\" height=\"55\" style=\"fill:#949494;stroke-width:2;stroke:rgb(255,255,255)\"/><rect x=\"440\" y=\"0\" width=\"55\" height=\"55\" style=\"fill:#ece133;stroke-width:2;stroke:rgb(255,255,255)\"/><rect x=\"495\" y=\"0\" width=\"55\" height=\"55\" style=\"fill:#56b4e9;stroke-width:2;stroke:rgb(255,255,255)\"/></svg>"
      ],
      "text/plain": [
       "[(0.00392156862745098, 0.45098039215686275, 0.6980392156862745),\n",
       " (0.8705882352941177, 0.5607843137254902, 0.0196078431372549),\n",
       " (0.00784313725490196, 0.6196078431372549, 0.45098039215686275),\n",
       " (0.8352941176470589, 0.3686274509803922, 0.0),\n",
       " (0.8, 0.47058823529411764, 0.7372549019607844),\n",
       " (0.792156862745098, 0.5686274509803921, 0.3803921568627451),\n",
       " (0.984313725490196, 0.6862745098039216, 0.8941176470588236),\n",
       " (0.5803921568627451, 0.5803921568627451, 0.5803921568627451),\n",
       " (0.9254901960784314, 0.8823529411764706, 0.2),\n",
       " (0.33725490196078434, 0.7058823529411765, 0.9137254901960784)]"
      ]
     },
     "execution_count": 9,
     "metadata": {},
     "output_type": "execute_result"
    }
   ],
   "source": [
    "import numpy as np\n",
    "import math\n",
    "import pandas as pd\n",
    "import os.path\n",
    "import matplotlib.pyplot as plt\n",
    "from typing import List, Dict\n",
    "import seaborn as sns\n",
    "import json\n",
    "from matplotlib import cm\n",
    "from pprint import pformat\n",
    "import json\n",
    "\n",
    "#import tikzplotlib\n",
    "\n",
    "\n",
    "plt.style.use(\"seaborn\")\n",
    "sns.color_palette(\"colorblind\")"
   ]
  },
  {
   "cell_type": "code",
   "execution_count": 15,
   "metadata": {},
   "outputs": [
    {
     "name": "stdout",
     "output_type": "stream",
     "text": [
      "slice 159 : mask occurances : (array([0, 2, 3]), array([26635,   809,    12])) and point occurances : (array([  0.,   2.,   3., 255.]), array([    5,    18,     2, 27431]))\n",
      "slice 160 : mask occurances : (array([0, 2, 3]), array([26928,   513,    15])) and point occurances : (array([  0.,   2.,   3., 255.]), array([    5,     6,     2, 27443]))\n",
      "slice 161 : mask occurances : (array([0, 2, 3]), array([27125,   310,    21])) and point occurances : (array([  0.,   2.,   3., 255.]), array([    5,     5,     3, 27443]))\n",
      "slice 162 : mask occurances : (array([0, 2, 3]), array([27241,   159,    56])) and point occurances : (array([  0.,   2.,   3., 255.]), array([    5,     3,     3, 27445]))\n",
      "slice 163 : mask occurances : (array([0, 2, 3]), array([27298,    63,    95])) and point occurances : (array([  0.,   2.,   3., 255.]), array([    5,     6,     3, 27442]))\n",
      "slice 164 : mask occurances : (array([0, 2, 3]), array([27274,    28,   154])) and point occurances : (array([  0.,   2.,   3., 255.]), array([    5,     3,     3, 27445]))\n",
      "slice 165 : mask occurances : (array([0, 2, 3]), array([27154,    12,   290])) and point occurances : (array([  0.,   2.,   3., 255.]), array([    5,     3,    12, 27436]))\n",
      "slice 115 : mask occurances : (array([0, 1, 2]), array([21248,   340,    12])) and point occurances : (array([  0.,   1.,   2., 255.]), array([    5,     3,     3, 21589]))\n",
      "slice 116 : mask occurances : (array([0, 1, 2]), array([21292,   280,    28])) and point occurances : (array([  0.,   1.,   2., 255.]), array([    5,     3,     3, 21589]))\n",
      "slice 117 : mask occurances : (array([0, 1, 2]), array([21340,   204,    56])) and point occurances : (array([  0.,   1.,   2., 255.]), array([    5,     3,     3, 21589]))\n",
      "slice 118 : mask occurances : (array([0, 1, 2]), array([21216,    40,   344])) and point occurances : (array([  0.,   1.,   2., 255.]), array([    5,     2,     3, 21590]))\n",
      "slice 115 : mask occurances : (array([0, 1, 2]), array([21488,    16,    96])) and point occurances : (array([  0.,   1.,   2., 255.]), array([    5,     3,     3, 21589]))\n",
      "slice 115 : mask occurances : (array([0, 1, 2]), array([21488,    16,    96])) and point occurances : (array([  0.,   1.,   2., 255.]), array([    5,     3,     3, 21589]))\n",
      "slice 115 : mask occurances : (array([0, 1, 2]), array([21484,    16,   100])) and point occurances : (array([  0.,   1.,   2., 255.]), array([    5,     3,     3, 21589]))\n"
     ]
    }
   ],
   "source": [
    "mask_folder = r'/media/jan/DataStorage/ProjectData/temp/dataset_0_contrast_0/USiegen_masks/'\n",
    "mask_folders = [os.path.join(mask_folder, o) for o in os.listdir(mask_folder)]\n",
    "\n",
    "for mask_folder in mask_folders:\n",
    "    for i in range(200):\n",
    "        mask = np.load(os.path.join(mask_folder, f'slice_{i:03d}.npy'))\n",
    "        points = np.load(os.path.join(mask_folder, f'slice_{i:03d}_points.npy'))\n",
    "        if np.unique(mask).shape[0] >2:\n",
    "            print(f'slice {i} : mask occurances : {np.unique(mask, return_counts=True)} and point occurances : {np.unique(points, return_counts=True)}')"
   ]
  },
  {
   "cell_type": "code",
   "execution_count": null,
   "metadata": {},
   "outputs": [],
   "source": []
  },
  {
   "cell_type": "code",
   "execution_count": null,
   "metadata": {},
   "outputs": [],
   "source": []
  }
 ],
 "metadata": {
  "interpreter": {
   "hash": "2882347c02acec9c863788f34b429e05a7a6d54c0da3edd9599b2a7e385b2f1d"
  },
  "kernelspec": {
   "display_name": "Python 3",
   "language": "python",
   "name": "python3"
  },
  "language_info": {
   "codemirror_mode": {
    "name": "ipython",
    "version": 3
   },
   "file_extension": ".py",
   "mimetype": "text/x-python",
   "name": "python",
   "nbconvert_exporter": "python",
   "pygments_lexer": "ipython3",
   "version": "3.8.6"
  }
 },
 "nbformat": 4,
 "nbformat_minor": 2
}

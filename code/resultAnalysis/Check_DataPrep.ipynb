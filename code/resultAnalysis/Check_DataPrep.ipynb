{
 "cells": [
  {
   "cell_type": "markdown",
   "metadata": {},
   "source": [
    "# Dataset analysis "
   ]
  },
  {
   "cell_type": "code",
   "execution_count": 1,
   "metadata": {},
   "outputs": [],
   "source": [
    "import numpy as np\n",
    "import math\n",
    "import pandas as pd\n",
    "import os\n",
    "\n",
    "import matplotlib.pyplot as plt\n",
    "from matplotlib import  cm\n",
    "\n",
    "from PIL import Image"
   ]
  },
  {
   "source": [
    "Check that always : \n",
    "\n",
    "* dim 0 is transverse\n",
    "* dim 1 is coronal\n",
    "* dim 2 is sagittal"
   ],
   "cell_type": "markdown",
   "metadata": {}
  },
  {
   "cell_type": "code",
   "execution_count": 2,
   "metadata": {
    "tags": []
   },
   "outputs": [],
   "source": [
    "res_folder = r'/media/jan/MastatThesis/temp/'\n",
    "dataset_0 = os.path.join(res_folder, r'dataset_0_contrast_3')\n",
    "dataset_1 = os.path.join(res_folder, r'dataset_1_contrast_3')\n",
    "dataset_2 = os.path.join(res_folder, r'dataset_2_contrast_3')\n",
    "\n",
    "\n",
    "for foldername in ['MyoSegmenTUM_images', 'USiegen_images', 'xVertSeg_images']:\n",
    "    fn = os.path.join(dataset_0, foldername)\n",
    "    for img_name in os.listdir(fn):\n",
    "        image = Image.open(os.path.join(dataset_0, foldername, img_name, 'slice_020.jpg'))\n",
    "        image.show()\n",
    "        # input(f'image : {img_name}')\n",
    "        "
   ]
  },
  {
   "cell_type": "code",
   "execution_count": null,
   "metadata": {},
   "outputs": [],
   "source": []
  },
  {
   "cell_type": "code",
   "execution_count": null,
   "metadata": {},
   "outputs": [],
   "source": []
  }
 ],
 "metadata": {
  "interpreter": {
   "hash": "3fe3577b2054c343c338c9c919194cea9aeeb4f21c8bf6ce8a9c069aa8270cb5"
  },
  "kernelspec": {
   "name": "python3",
   "display_name": "Python 3.8.5 64-bit ('simpleitk': conda)"
  },
  "language_info": {
   "codemirror_mode": {
    "name": "ipython",
    "version": 3
   },
   "file_extension": ".py",
   "mimetype": "text/x-python",
   "name": "python",
   "nbconvert_exporter": "python",
   "pygments_lexer": "ipython3",
   "version": "3.8.5"
  }
 },
 "nbformat": 4,
 "nbformat_minor": 2
}
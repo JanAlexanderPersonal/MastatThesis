{
 "cells": [
  {
   "cell_type": "markdown",
   "metadata": {},
   "source": [
    "# Dataset analysis "
   ]
  },
  {
   "cell_type": "code",
   "execution_count": 13,
   "metadata": {},
   "outputs": [
    {
     "output_type": "execute_result",
     "data": {
      "text/plain": [
       "[(0.00392156862745098, 0.45098039215686275, 0.6980392156862745),\n",
       " (0.8705882352941177, 0.5607843137254902, 0.0196078431372549),\n",
       " (0.00784313725490196, 0.6196078431372549, 0.45098039215686275),\n",
       " (0.8352941176470589, 0.3686274509803922, 0.0),\n",
       " (0.8, 0.47058823529411764, 0.7372549019607844),\n",
       " (0.792156862745098, 0.5686274509803921, 0.3803921568627451),\n",
       " (0.984313725490196, 0.6862745098039216, 0.8941176470588236),\n",
       " (0.5803921568627451, 0.5803921568627451, 0.5803921568627451),\n",
       " (0.9254901960784314, 0.8823529411764706, 0.2),\n",
       " (0.33725490196078434, 0.7058823529411765, 0.9137254901960784)]"
      ],
      "text/html": "<svg  width=\"550\" height=\"55\"><rect x=\"0\" y=\"0\" width=\"55\" height=\"55\" style=\"fill:#0173b2;stroke-width:2;stroke:rgb(255,255,255)\"/><rect x=\"55\" y=\"0\" width=\"55\" height=\"55\" style=\"fill:#de8f05;stroke-width:2;stroke:rgb(255,255,255)\"/><rect x=\"110\" y=\"0\" width=\"55\" height=\"55\" style=\"fill:#029e73;stroke-width:2;stroke:rgb(255,255,255)\"/><rect x=\"165\" y=\"0\" width=\"55\" height=\"55\" style=\"fill:#d55e00;stroke-width:2;stroke:rgb(255,255,255)\"/><rect x=\"220\" y=\"0\" width=\"55\" height=\"55\" style=\"fill:#cc78bc;stroke-width:2;stroke:rgb(255,255,255)\"/><rect x=\"275\" y=\"0\" width=\"55\" height=\"55\" style=\"fill:#ca9161;stroke-width:2;stroke:rgb(255,255,255)\"/><rect x=\"330\" y=\"0\" width=\"55\" height=\"55\" style=\"fill:#fbafe4;stroke-width:2;stroke:rgb(255,255,255)\"/><rect x=\"385\" y=\"0\" width=\"55\" height=\"55\" style=\"fill:#949494;stroke-width:2;stroke:rgb(255,255,255)\"/><rect x=\"440\" y=\"0\" width=\"55\" height=\"55\" style=\"fill:#ece133;stroke-width:2;stroke:rgb(255,255,255)\"/><rect x=\"495\" y=\"0\" width=\"55\" height=\"55\" style=\"fill:#56b4e9;stroke-width:2;stroke:rgb(255,255,255)\"/></svg>"
     },
     "metadata": {},
     "execution_count": 13
    }
   ],
   "source": [
    "import SimpleITK as sitk\n",
    "import numpy as np\n",
    "import pandas as pd\n",
    "import os.path\n",
    "import re\n",
    "import matplotlib.pyplot as plt\n",
    "from typing import List\n",
    "import seaborn as sns\n",
    "import json\n",
    "from matplotlib import cm\n",
    "from pprint import pformat\n",
    "\n",
    "import tikzplotlib\n",
    "\n",
    "plt.style.use(\"seaborn\")\n",
    "sns.color_palette(\"colorblind\")"
   ]
  },
  {
   "cell_type": "code",
   "execution_count": 14,
   "metadata": {},
   "outputs": [
    {
     "output_type": "stream",
     "name": "stdout",
     "text": [
      "For test /media/jan/USB1/test1, the correspondance between reference and candidate is : \n\t{'test': True, 'train': True, 'val': True}\nFor test /media/jan/USB1/test2, the correspondance between reference and candidate is : \n\t{'test': True, 'train': True, 'val': True}\n"
     ]
    }
   ],
   "source": [
    "base_path_raw = os.path.abspath('/media/jan/USB1/')\n",
    "# Make list with subdirectories\n",
    "tests = [os.path.join(base_path_raw, o) for o in os.listdir(base_path_raw) if os.path.isdir(os.path.join(base_path_raw,o)) and not o.startswith('.')]\n",
    "\n",
    "reference = tests[0]\n",
    "reference_selected = {split : pd.read_csv(os.path.join(reference, f'{split}_selected.csv')) for split in ['train', 'test', 'val']}\n",
    "\n",
    "for test in tests:\n",
    "    candidate_selected = {split : pd.read_csv(os.path.join(test, f'{split}_selected.csv')) for split in ['train', 'test', 'val']}\n",
    "    correspondance = {split : candidate_selected[split].equals(reference_selected[split]) for split in ['train', 'test', 'val']}\n",
    "    print(f'For test {test}, the correspondance between reference and candidate is : \\n\\t{pformat(correspondance)}')"
   ]
  },
  {
   "cell_type": "code",
   "execution_count": 15,
   "metadata": {},
   "outputs": [
    {
     "output_type": "execute_result",
     "data": {
      "text/plain": [
       "   Unnamed: 0                                                img  \\\n",
       "0         755  /root/space/output/dataset_2_contrast_3/xVertS...   \n",
       "1         756  /root/space/output/dataset_2_contrast_3/xVertS...   \n",
       "2         757  /root/space/output/dataset_2_contrast_3/xVertS...   \n",
       "3         758  /root/space/output/dataset_2_contrast_3/xVertS...   \n",
       "4         759  /root/space/output/dataset_2_contrast_3/xVertS...   \n",
       "\n",
       "                                                 tgt       scan_id  slice_id  \\\n",
       "0  /root/space/output/dataset_2_contrast_3/xVertS...  xVertSeg_005         9   \n",
       "1  /root/space/output/dataset_2_contrast_3/xVertS...  xVertSeg_005       397   \n",
       "2  /root/space/output/dataset_2_contrast_3/xVertS...  xVertSeg_005       192   \n",
       "3  /root/space/output/dataset_2_contrast_3/xVertS...  xVertSeg_005       183   \n",
       "4  /root/space/output/dataset_2_contrast_3/xVertS...  xVertSeg_005       355   \n",
       "\n",
       "        patient    source  crop_nr  \n",
       "0  xVertSeg_005  xVertSeg        4  \n",
       "1  xVertSeg_005  xVertSeg        0  \n",
       "2  xVertSeg_005  xVertSeg        3  \n",
       "3  xVertSeg_005  xVertSeg        3  \n",
       "4  xVertSeg_005  xVertSeg        4  "
      ],
      "text/html": "<div>\n<style scoped>\n    .dataframe tbody tr th:only-of-type {\n        vertical-align: middle;\n    }\n\n    .dataframe tbody tr th {\n        vertical-align: top;\n    }\n\n    .dataframe thead th {\n        text-align: right;\n    }\n</style>\n<table border=\"1\" class=\"dataframe\">\n  <thead>\n    <tr style=\"text-align: right;\">\n      <th></th>\n      <th>Unnamed: 0</th>\n      <th>img</th>\n      <th>tgt</th>\n      <th>scan_id</th>\n      <th>slice_id</th>\n      <th>patient</th>\n      <th>source</th>\n      <th>crop_nr</th>\n    </tr>\n  </thead>\n  <tbody>\n    <tr>\n      <th>0</th>\n      <td>755</td>\n      <td>/root/space/output/dataset_2_contrast_3/xVertS...</td>\n      <td>/root/space/output/dataset_2_contrast_3/xVertS...</td>\n      <td>xVertSeg_005</td>\n      <td>9</td>\n      <td>xVertSeg_005</td>\n      <td>xVertSeg</td>\n      <td>4</td>\n    </tr>\n    <tr>\n      <th>1</th>\n      <td>756</td>\n      <td>/root/space/output/dataset_2_contrast_3/xVertS...</td>\n      <td>/root/space/output/dataset_2_contrast_3/xVertS...</td>\n      <td>xVertSeg_005</td>\n      <td>397</td>\n      <td>xVertSeg_005</td>\n      <td>xVertSeg</td>\n      <td>0</td>\n    </tr>\n    <tr>\n      <th>2</th>\n      <td>757</td>\n      <td>/root/space/output/dataset_2_contrast_3/xVertS...</td>\n      <td>/root/space/output/dataset_2_contrast_3/xVertS...</td>\n      <td>xVertSeg_005</td>\n      <td>192</td>\n      <td>xVertSeg_005</td>\n      <td>xVertSeg</td>\n      <td>3</td>\n    </tr>\n    <tr>\n      <th>3</th>\n      <td>758</td>\n      <td>/root/space/output/dataset_2_contrast_3/xVertS...</td>\n      <td>/root/space/output/dataset_2_contrast_3/xVertS...</td>\n      <td>xVertSeg_005</td>\n      <td>183</td>\n      <td>xVertSeg_005</td>\n      <td>xVertSeg</td>\n      <td>3</td>\n    </tr>\n    <tr>\n      <th>4</th>\n      <td>759</td>\n      <td>/root/space/output/dataset_2_contrast_3/xVertS...</td>\n      <td>/root/space/output/dataset_2_contrast_3/xVertS...</td>\n      <td>xVertSeg_005</td>\n      <td>355</td>\n      <td>xVertSeg_005</td>\n      <td>xVertSeg</td>\n      <td>4</td>\n    </tr>\n  </tbody>\n</table>\n</div>"
     },
     "metadata": {},
     "execution_count": 15
    }
   ],
   "source": [
    "reference_selected['train'].head()"
   ]
  },
  {
   "cell_type": "code",
   "execution_count": 16,
   "metadata": {},
   "outputs": [
    {
     "output_type": "execute_result",
     "data": {
      "text/plain": [
       "              train  test   val  total\n",
       "source                                \n",
       "MyoSegmenTUM   3170   723   861   4754\n",
       "USiegen         906   145   103   1154\n",
       "xVertSeg       3995  1251  1019   6265\n",
       "total          8071  2119  1983  12173"
      ],
      "text/html": "<div>\n<style scoped>\n    .dataframe tbody tr th:only-of-type {\n        vertical-align: middle;\n    }\n\n    .dataframe tbody tr th {\n        vertical-align: top;\n    }\n\n    .dataframe thead th {\n        text-align: right;\n    }\n</style>\n<table border=\"1\" class=\"dataframe\">\n  <thead>\n    <tr style=\"text-align: right;\">\n      <th></th>\n      <th>train</th>\n      <th>test</th>\n      <th>val</th>\n      <th>total</th>\n    </tr>\n    <tr>\n      <th>source</th>\n      <th></th>\n      <th></th>\n      <th></th>\n      <th></th>\n    </tr>\n  </thead>\n  <tbody>\n    <tr>\n      <th>MyoSegmenTUM</th>\n      <td>3170</td>\n      <td>723</td>\n      <td>861</td>\n      <td>4754</td>\n    </tr>\n    <tr>\n      <th>USiegen</th>\n      <td>906</td>\n      <td>145</td>\n      <td>103</td>\n      <td>1154</td>\n    </tr>\n    <tr>\n      <th>xVertSeg</th>\n      <td>3995</td>\n      <td>1251</td>\n      <td>1019</td>\n      <td>6265</td>\n    </tr>\n    <tr>\n      <th>total</th>\n      <td>8071</td>\n      <td>2119</td>\n      <td>1983</td>\n      <td>12173</td>\n    </tr>\n  </tbody>\n</table>\n</div>"
     },
     "metadata": {},
     "execution_count": 16
    }
   ],
   "source": [
    "counts_slices = pd.concat([df.groupby(['source']).scan_id.count().rename(name) for name, df in reference_selected.items()], axis= 1)\n",
    "counts_slices.loc['total'] = counts_slices.sum(axis=0)\n",
    "counts_slices.loc[:,'total'] = counts_slices.sum(axis=1)\n",
    "counts_slices"
   ]
  },
  {
   "cell_type": "code",
   "execution_count": 17,
   "metadata": {},
   "outputs": [
    {
     "output_type": "execute_result",
     "data": {
      "text/plain": [
       "              train  test  val  total\n",
       "source                               \n",
       "MyoSegmenTUM     36     9    9     54\n",
       "USiegen           7     2    1     10\n",
       "xVertSeg          9     3    3     15\n",
       "total            52    14   13     79"
      ],
      "text/html": "<div>\n<style scoped>\n    .dataframe tbody tr th:only-of-type {\n        vertical-align: middle;\n    }\n\n    .dataframe tbody tr th {\n        vertical-align: top;\n    }\n\n    .dataframe thead th {\n        text-align: right;\n    }\n</style>\n<table border=\"1\" class=\"dataframe\">\n  <thead>\n    <tr style=\"text-align: right;\">\n      <th></th>\n      <th>train</th>\n      <th>test</th>\n      <th>val</th>\n      <th>total</th>\n    </tr>\n    <tr>\n      <th>source</th>\n      <th></th>\n      <th></th>\n      <th></th>\n      <th></th>\n    </tr>\n  </thead>\n  <tbody>\n    <tr>\n      <th>MyoSegmenTUM</th>\n      <td>36</td>\n      <td>9</td>\n      <td>9</td>\n      <td>54</td>\n    </tr>\n    <tr>\n      <th>USiegen</th>\n      <td>7</td>\n      <td>2</td>\n      <td>1</td>\n      <td>10</td>\n    </tr>\n    <tr>\n      <th>xVertSeg</th>\n      <td>9</td>\n      <td>3</td>\n      <td>3</td>\n      <td>15</td>\n    </tr>\n    <tr>\n      <th>total</th>\n      <td>52</td>\n      <td>14</td>\n      <td>13</td>\n      <td>79</td>\n    </tr>\n  </tbody>\n</table>\n</div>"
     },
     "metadata": {},
     "execution_count": 17
    }
   ],
   "source": [
    "counts_patients = pd.concat([df.drop_duplicates('patient', keep='first').groupby(['source']).scan_id.count().rename(name) for name, df in reference_selected.items()], axis= 1)\n",
    "counts_patients.loc['total'] = counts_patients.sum(axis=0)\n",
    "counts_patients.loc[:,'total'] = counts_patients.sum(axis=1)\n",
    "counts_patients"
   ]
  },
  {
   "cell_type": "code",
   "execution_count": null,
   "metadata": {},
   "outputs": [],
   "source": []
  }
 ],
 "metadata": {
  "kernelspec": {
   "name": "python3",
   "display_name": "Python 3.8.5 64-bit ('simpleitk': conda)"
  },
  "language_info": {
   "codemirror_mode": {
    "name": "ipython",
    "version": 3
   },
   "file_extension": ".py",
   "mimetype": "text/x-python",
   "name": "python",
   "nbconvert_exporter": "python",
   "pygments_lexer": "ipython3",
   "version": "3.8.5"
  },
  "interpreter": {
   "hash": "3fe3577b2054c343c338c9c919194cea9aeeb4f21c8bf6ce8a9c069aa8270cb5"
  }
 },
 "nbformat": 4,
 "nbformat_minor": 2
}
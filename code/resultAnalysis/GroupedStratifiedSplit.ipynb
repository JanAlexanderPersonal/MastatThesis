{
 "cells": [
  {
   "cell_type": "markdown",
   "source": [
    "## Test prior extend value"
   ],
   "metadata": {}
  },
  {
   "cell_type": "code",
   "execution_count": 1,
   "source": [
    "import numpy as np\n",
    "import pandas as pd\n",
    "from matplotlib import cm\n",
    "import matplotlib.pyplot as plt\n",
    "import os\n",
    "\n",
    "RANDOM_SEED = 1"
   ],
   "outputs": [],
   "metadata": {}
  },
  {
   "cell_type": "code",
   "execution_count": 2,
   "source": [
    "full = pd.read_csv('test_full.csv')\n",
    "test = pd.read_csv('test_selected.csv')\n",
    "val = pd.read_csv('val_selected.csv')\n",
    "train = pd.read_csv('train_selected.csv')\n",
    "\n",
    "test['split'] = 'test'\n",
    "val['split'] = 'xval'\n",
    "train['split'] = 'train'\n",
    "\n",
    "total = pd.concat([test, val, train], axis=0).sort_values('patient').drop_duplicates(subset=['scan_id'], keep='first')\n",
    "total = total\n",
    "total[['patient', 'scan_id', 'split']].reset_index(drop=True).to_latex('grouped_split.tex')\n"
   ],
   "outputs": [],
   "metadata": {}
  },
  {
   "cell_type": "code",
   "execution_count": 3,
   "source": [
    "total.groupby(['split','source']).count().reset_index().pivot(index='source', columns='split', values='img').to_latex('summary_split.tex')"
   ],
   "outputs": [],
   "metadata": {}
  },
  {
   "cell_type": "code",
   "execution_count": null,
   "source": [],
   "outputs": [],
   "metadata": {}
  },
  {
   "cell_type": "code",
   "execution_count": 4,
   "source": [
    "import sys\n",
    "sys.path.append(os.path.abspath('../src/datasets/'))\n",
    "\n",
    "from StratifiedGroupKFold import StratifiedGroupKFold"
   ],
   "outputs": [
    {
     "output_type": "error",
     "ename": "ModuleNotFoundError",
     "evalue": "No module named 'StratifiedGroupKFold'",
     "traceback": [
      "\u001b[0;31m---------------------------------------------------------------------------\u001b[0m",
      "\u001b[0;31mModuleNotFoundError\u001b[0m                       Traceback (most recent call last)",
      "\u001b[0;32m<ipython-input-4-a06884267ef4>\u001b[0m in \u001b[0;36m<module>\u001b[0;34m\u001b[0m\n\u001b[1;32m      2\u001b[0m \u001b[0msys\u001b[0m\u001b[0;34m.\u001b[0m\u001b[0mpath\u001b[0m\u001b[0;34m.\u001b[0m\u001b[0mappend\u001b[0m\u001b[0;34m(\u001b[0m\u001b[0mos\u001b[0m\u001b[0;34m.\u001b[0m\u001b[0mpath\u001b[0m\u001b[0;34m.\u001b[0m\u001b[0mabspath\u001b[0m\u001b[0;34m(\u001b[0m\u001b[0;34m'../src/datasets/'\u001b[0m\u001b[0;34m)\u001b[0m\u001b[0;34m)\u001b[0m\u001b[0;34m\u001b[0m\u001b[0;34m\u001b[0m\u001b[0m\n\u001b[1;32m      3\u001b[0m \u001b[0;34m\u001b[0m\u001b[0m\n\u001b[0;32m----> 4\u001b[0;31m \u001b[0;32mfrom\u001b[0m \u001b[0mStratifiedGroupKFold\u001b[0m \u001b[0;32mimport\u001b[0m \u001b[0mStratifiedGroupKFold\u001b[0m\u001b[0;34m\u001b[0m\u001b[0;34m\u001b[0m\u001b[0m\n\u001b[0m",
      "\u001b[0;31mModuleNotFoundError\u001b[0m: No module named 'StratifiedGroupKFold'"
     ]
    }
   ],
   "metadata": {}
  },
  {
   "cell_type": "code",
   "execution_count": null,
   "source": [
    "USB_PATH = '/media/jan/JAL/data/'\n",
    "test_file = os.path.join(USB_PATH, 'test_full.csv')"
   ],
   "outputs": [],
   "metadata": {}
  },
  {
   "cell_type": "code",
   "execution_count": null,
   "source": [
    "data_df = pd.read_csv(test_file, index_col=0)\n",
    "data_df.head()"
   ],
   "outputs": [
    {
     "output_type": "execute_result",
     "data": {
      "text/plain": [
       "                                                 img  \\\n",
       "0  /root/space/output/dataset_2_contrast_3/xVertS...   \n",
       "1  /root/space/output/dataset_2_contrast_3/xVertS...   \n",
       "2  /root/space/output/dataset_2_contrast_3/xVertS...   \n",
       "3  /root/space/output/dataset_2_contrast_3/xVertS...   \n",
       "4  /root/space/output/dataset_2_contrast_3/xVertS...   \n",
       "\n",
       "                                                 tgt       scan_id  slice_id  \\\n",
       "0  /root/space/output/dataset_2_contrast_3/xVertS...  xVertSeg_004         9   \n",
       "1  /root/space/output/dataset_2_contrast_3/xVertS...  xVertSeg_004       397   \n",
       "2  /root/space/output/dataset_2_contrast_3/xVertS...  xVertSeg_004       192   \n",
       "3  /root/space/output/dataset_2_contrast_3/xVertS...  xVertSeg_004       183   \n",
       "4  /root/space/output/dataset_2_contrast_3/xVertS...  xVertSeg_004       355   \n",
       "\n",
       "        patient    source  \n",
       "0  xVertSeg_001  xVertSeg  \n",
       "1  xVertSeg_001  xVertSeg  \n",
       "2  xVertSeg_001  xVertSeg  \n",
       "3  xVertSeg_001  xVertSeg  \n",
       "4  xVertSeg_001  xVertSeg  "
      ],
      "text/html": [
       "<div>\n",
       "<style scoped>\n",
       "    .dataframe tbody tr th:only-of-type {\n",
       "        vertical-align: middle;\n",
       "    }\n",
       "\n",
       "    .dataframe tbody tr th {\n",
       "        vertical-align: top;\n",
       "    }\n",
       "\n",
       "    .dataframe thead th {\n",
       "        text-align: right;\n",
       "    }\n",
       "</style>\n",
       "<table border=\"1\" class=\"dataframe\">\n",
       "  <thead>\n",
       "    <tr style=\"text-align: right;\">\n",
       "      <th></th>\n",
       "      <th>img</th>\n",
       "      <th>tgt</th>\n",
       "      <th>scan_id</th>\n",
       "      <th>slice_id</th>\n",
       "      <th>patient</th>\n",
       "      <th>source</th>\n",
       "    </tr>\n",
       "  </thead>\n",
       "  <tbody>\n",
       "    <tr>\n",
       "      <th>0</th>\n",
       "      <td>/root/space/output/dataset_2_contrast_3/xVertS...</td>\n",
       "      <td>/root/space/output/dataset_2_contrast_3/xVertS...</td>\n",
       "      <td>xVertSeg_004</td>\n",
       "      <td>9</td>\n",
       "      <td>xVertSeg_001</td>\n",
       "      <td>xVertSeg</td>\n",
       "    </tr>\n",
       "    <tr>\n",
       "      <th>1</th>\n",
       "      <td>/root/space/output/dataset_2_contrast_3/xVertS...</td>\n",
       "      <td>/root/space/output/dataset_2_contrast_3/xVertS...</td>\n",
       "      <td>xVertSeg_004</td>\n",
       "      <td>397</td>\n",
       "      <td>xVertSeg_001</td>\n",
       "      <td>xVertSeg</td>\n",
       "    </tr>\n",
       "    <tr>\n",
       "      <th>2</th>\n",
       "      <td>/root/space/output/dataset_2_contrast_3/xVertS...</td>\n",
       "      <td>/root/space/output/dataset_2_contrast_3/xVertS...</td>\n",
       "      <td>xVertSeg_004</td>\n",
       "      <td>192</td>\n",
       "      <td>xVertSeg_001</td>\n",
       "      <td>xVertSeg</td>\n",
       "    </tr>\n",
       "    <tr>\n",
       "      <th>3</th>\n",
       "      <td>/root/space/output/dataset_2_contrast_3/xVertS...</td>\n",
       "      <td>/root/space/output/dataset_2_contrast_3/xVertS...</td>\n",
       "      <td>xVertSeg_004</td>\n",
       "      <td>183</td>\n",
       "      <td>xVertSeg_001</td>\n",
       "      <td>xVertSeg</td>\n",
       "    </tr>\n",
       "    <tr>\n",
       "      <th>4</th>\n",
       "      <td>/root/space/output/dataset_2_contrast_3/xVertS...</td>\n",
       "      <td>/root/space/output/dataset_2_contrast_3/xVertS...</td>\n",
       "      <td>xVertSeg_004</td>\n",
       "      <td>355</td>\n",
       "      <td>xVertSeg_001</td>\n",
       "      <td>xVertSeg</td>\n",
       "    </tr>\n",
       "  </tbody>\n",
       "</table>\n",
       "</div>"
      ]
     },
     "metadata": {},
     "execution_count": 14
    }
   ],
   "metadata": {}
  },
  {
   "cell_type": "code",
   "execution_count": null,
   "source": [
    "data_df.groupby(['source']).slice_id.count()"
   ],
   "outputs": [
    {
     "output_type": "execute_result",
     "data": {
      "text/plain": [
       "source\n",
       "MyoSegmenTUM    4754\n",
       "USiegen         1154\n",
       "xVertSeg        6265\n",
       "Name: slice_id, dtype: int64"
      ]
     },
     "metadata": {},
     "execution_count": 15
    }
   ],
   "metadata": {}
  },
  {
   "cell_type": "code",
   "execution_count": null,
   "source": [
    "data_df.groupby(['scan_id']).slice_id.count()\n"
   ],
   "outputs": [
    {
     "output_type": "execute_result",
     "data": {
      "text/plain": [
       "scan_id\n",
       "MyoSegmenTUM_001     81\n",
       "MyoSegmenTUM_002     81\n",
       "MyoSegmenTUM_003     81\n",
       "MyoSegmenTUM_004     81\n",
       "MyoSegmenTUM_005     80\n",
       "                   ... \n",
       "xVertSeg_011        319\n",
       "xVertSeg_012        314\n",
       "xVertSeg_013        338\n",
       "xVertSeg_014        558\n",
       "xVertSeg_015        404\n",
       "Name: slice_id, Length: 86, dtype: int64"
      ]
     },
     "metadata": {},
     "execution_count": 16
    }
   ],
   "metadata": {}
  },
  {
   "cell_type": "code",
   "execution_count": null,
   "source": [
    "dev_test_split = StratifiedGroupKFold(n_splits=6, random_state=RANDOM_SEED, shuffle=True)\n",
    "train_val_split = StratifiedGroupKFold(n_splits=5, random_state=RANDOM_SEED, shuffle=True)\n",
    "\n",
    "ix_dev, ix_test = next(dev_test_split.split(X = data_df.slice_id, y = data_df.source, groups = data_df.scan_id ))\n",
    "\n",
    "dev_df, test_df = data_df.iloc[ix_dev], data_df.iloc[ix_test]\n",
    "ix_train, ix_val = next(train_val_split.split(X = dev_df.slice_id, y = dev_df.source, groups = dev_df.scan_id ))\n",
    "train_df, val_df = dev_df.iloc[ix_train], dev_df.iloc[ix_val]"
   ],
   "outputs": [],
   "metadata": {}
  },
  {
   "cell_type": "code",
   "execution_count": null,
   "source": [
    "counts = pd.concat([df.groupby(['source']).scan_id.count().rename(name) for df, name in zip([train_df, test_df, val_df], ['train', 'test', 'val'])], axis= 1)"
   ],
   "outputs": [],
   "metadata": {}
  },
  {
   "cell_type": "code",
   "execution_count": null,
   "source": [
    "counts"
   ],
   "outputs": [
    {
     "output_type": "execute_result",
     "data": {
      "text/plain": [
       "              train  test  val\n",
       "source                        \n",
       "MyoSegmenTUM   3193   781  780\n",
       "USiegen         795   163  196\n",
       "xVertSeg       4446   896  923"
      ],
      "text/html": [
       "<div>\n",
       "<style scoped>\n",
       "    .dataframe tbody tr th:only-of-type {\n",
       "        vertical-align: middle;\n",
       "    }\n",
       "\n",
       "    .dataframe tbody tr th {\n",
       "        vertical-align: top;\n",
       "    }\n",
       "\n",
       "    .dataframe thead th {\n",
       "        text-align: right;\n",
       "    }\n",
       "</style>\n",
       "<table border=\"1\" class=\"dataframe\">\n",
       "  <thead>\n",
       "    <tr style=\"text-align: right;\">\n",
       "      <th></th>\n",
       "      <th>train</th>\n",
       "      <th>test</th>\n",
       "      <th>val</th>\n",
       "    </tr>\n",
       "    <tr>\n",
       "      <th>source</th>\n",
       "      <th></th>\n",
       "      <th></th>\n",
       "      <th></th>\n",
       "    </tr>\n",
       "  </thead>\n",
       "  <tbody>\n",
       "    <tr>\n",
       "      <th>MyoSegmenTUM</th>\n",
       "      <td>3193</td>\n",
       "      <td>781</td>\n",
       "      <td>780</td>\n",
       "    </tr>\n",
       "    <tr>\n",
       "      <th>USiegen</th>\n",
       "      <td>795</td>\n",
       "      <td>163</td>\n",
       "      <td>196</td>\n",
       "    </tr>\n",
       "    <tr>\n",
       "      <th>xVertSeg</th>\n",
       "      <td>4446</td>\n",
       "      <td>896</td>\n",
       "      <td>923</td>\n",
       "    </tr>\n",
       "  </tbody>\n",
       "</table>\n",
       "</div>"
      ]
     },
     "metadata": {},
     "execution_count": 19
    }
   ],
   "metadata": {}
  },
  {
   "cell_type": "code",
   "execution_count": null,
   "source": [
    "data_df.drop_duplicates('patient', keep='first').iloc[-1]"
   ],
   "outputs": [
    {
     "output_type": "execute_result",
     "data": {
      "text/plain": [
       "img         /root/space/output/dataset_2_contrast_3/MyoSeg...\n",
       "tgt         /root/space/output/dataset_2_contrast_3/MyoSeg...\n",
       "scan_id                                      MyoSegmenTUM_025\n",
       "slice_id                                                    9\n",
       "patient                                      MyoSegmenTUM_054\n",
       "source                                           MyoSegmenTUM\n",
       "Name: 12093, dtype: object"
      ]
     },
     "metadata": {},
     "execution_count": 25
    }
   ],
   "metadata": {}
  },
  {
   "cell_type": "code",
   "execution_count": null,
   "source": [
    "data_df.drop_duplicates('patient', keep='first').img.iloc[-1]"
   ],
   "outputs": [
    {
     "output_type": "execute_result",
     "data": {
      "text/plain": [
       "'/root/space/output/dataset_2_contrast_3/MyoSegmenTUM_images/image025/slice_009.npy'"
      ]
     },
     "metadata": {},
     "execution_count": 26
    }
   ],
   "metadata": {}
  },
  {
   "cell_type": "code",
   "execution_count": null,
   "source": [],
   "outputs": [],
   "metadata": {}
  }
 ],
 "metadata": {
  "interpreter": {
   "hash": "3fe3577b2054c343c338c9c919194cea9aeeb4f21c8bf6ce8a9c069aa8270cb5"
  },
  "kernelspec": {
   "name": "python3",
   "display_name": "Python 3.8.5 64-bit ('simpleitk': conda)"
  },
  "language_info": {
   "codemirror_mode": {
    "name": "ipython",
    "version": 3
   },
   "file_extension": ".py",
   "mimetype": "text/x-python",
   "name": "python",
   "nbconvert_exporter": "python",
   "pygments_lexer": "ipython3",
   "version": "3.8.5"
  },
  "metadata": {
   "interpreter": {
    "hash": "cfe07b014d4870367da8a0513530648d8087115be69e8698b1821f7bb106330b"
   }
  }
 },
 "nbformat": 4,
 "nbformat_minor": 5
}
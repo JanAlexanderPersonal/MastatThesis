{
 "cells": [
  {
   "cell_type": "markdown",
   "metadata": {},
   "source": [
    "# Dataset analysis "
   ]
  },
  {
   "cell_type": "code",
   "execution_count": 1,
   "metadata": {},
   "outputs": [],
   "source": [
    "import SimpleITK as sitk\n",
    "import numpy as np\n",
    "import pandas as pd\n",
    "import os.path\n",
    "import re\n",
    "import matplotlib.pyplot as plt\n",
    "from typing import List\n",
    "import seaborn as sns\n",
    "\n",
    "import tikzplotlib\n",
    "\n",
    "plt.style.use(\"seaborn-colorblind\")\n",
    "#sns.color_palette(\"colorblind\")"
   ]
  },
  {
   "cell_type": "code",
   "execution_count": 2,
   "metadata": {},
   "outputs": [],
   "source": [
    "base_path = os.path.abspath('.')\n",
    "graphs_path = os.path.join(base_path, 'Analysis_graphs')\n",
    "graphs_path = os.path.join(os.path.abspath('..') , 'text', 'automated_graphs')\n",
    "tables_path = os.path.join(os.path.abspath('..') , 'text', 'tables')"
   ]
  },
  {
   "cell_type": "code",
   "execution_count": 3,
   "metadata": {},
   "outputs": [],
   "source": [
    "def resampler(image : sitk.SimpleITK.Image, new_spacing : List[float] = None):\n",
    "    \"\"\"resampler to isotropic spacing\n",
    "\n",
    "    Args:\n",
    "        image (sitk.SimpleITK.Image): image to resample\n",
    "        new_spacing (List[float], optional): List of three floats representing the new desired spacing. Defaults to None.\n",
    "\n",
    "    Returns:\n",
    "        sitk.SimpleITK.Image: resampled image on the new grid\n",
    "    \"\"\"\n",
    "    \n",
    "    if new_spacing is None:\n",
    "        new_spacing = [1, 1, 1]\n",
    "\n",
    "    resampler = sitk.ResampleImageFilter()\n",
    "    # Nearest neighbour interpolation to avoid disturbing the labels\n",
    "    # Todo: Adapt this for non-label images\n",
    "    resampler.SetInterpolator(sitk.sitkNearestNeighbor)\n",
    "    resampler.SetOutputDirection(image.GetDirection())\n",
    "    resampler.SetOutputOrigin(image.GetOrigin())\n",
    "    resampler.SetOutputSpacing(new_spacing)\n",
    "\n",
    "    orig_size = np.array(image.GetSize(), dtype=np.int)\n",
    "    orig_spacing = image.GetSpacing()\n",
    "    new_size = np.array([x * (y / z) for x, y, z in zip(orig_size, orig_spacing, new_spacing)])\n",
    "    new_size = np.ceil(new_size).astype(np.int)  # Image dimensions are in integers\n",
    "    new_size = [int(s) for s in new_size]\n",
    "    resampler.SetSize(new_size)\n",
    "\n",
    "    isotropic_img = resampler.Execute(image)\n",
    "\n",
    "    return isotropic_img\n",
    "\n",
    "NUMPY_DIMS = {'z' : 0, 'y' : 1, 'x' : 2}\n",
    "def plot_slice(itkimage : sitk.SimpleITK.Image, axis = 'z', s = 100, ax=None):\n",
    "    # When converting from SimpleITK to Numpy, the order of the axis changes:\n",
    "    #    SimpleITK : xyz \n",
    "    #    Numpy:      zyx\n",
    "    dim = NUMPY_DIMS[axis.lower()]\n",
    "    \n",
    "    # resample the image on a 1 mm ✕ 1 mm ✕ 1 mm grid\n",
    "    arr = sitk.GetArrayFromImage(resampler(itkimage, new_spacing = [1]*3))\n",
    "    print(f'SimpleITK image size : {itkimage.GetSize()} and the numpy array : {arr.shape} *** values between {np.amin(arr)} and {np.amax(arr)} ')\n",
    "    if ax is None:\n",
    "        plt.imshow(arr.take(indices = s, axis = dim), cmap='gray')\n",
    "        plt.grid(False)\n",
    "    else:\n",
    "        print(f'Add plot to axis {ax}')\n",
    "        ax.imshow(arr.take(indices = s, axis = dim), cmap='gray')\n",
    "        ax.grid(False)"
   ]
  },
  {
   "cell_type": "code",
   "execution_count": 4,
   "metadata": {},
   "outputs": [],
   "source": [
    "df_all = pd.DataFrame(columns=['Dataset', \n",
    "                               'Patient ID',\n",
    "                               'Imaging_technology', \n",
    "                               'Age', \n",
    "                               'Gender', \n",
    "                               'Anteroposterior', \n",
    "                               'Craniocaudal', \n",
    "                               'Left_right', 'Anteroposterior_delta', 'Craniocaudal_delta', 'Left_right_delta'])"
   ]
  },
  {
   "cell_type": "markdown",
   "metadata": {},
   "source": [
    "## xVerSeg dataset\n",
    "\n",
    "[link](http://lit.fe.uni-lj.si/xVertSeg/database.php)\n",
    "\n",
    "references:\n",
    "\n",
    "* doi:10.1109/TMI.2013.2296976\n",
    "* doi:10.1109/TMI.2015.2389334\n"
   ]
  },
  {
   "cell_type": "markdown",
   "metadata": {},
   "source": [
    "\n",
    "\n",
    "| Release date | Dataformat | number of scans |\n",
    "|:-----|----------:|----------|\n",
    "| OCT 5, 2015  | mhd        | 25              | \n",
    "\n"
   ]
  },
  {
   "cell_type": "code",
   "execution_count": 5,
   "metadata": {},
   "outputs": [
    {
     "ename": "FileNotFoundError",
     "evalue": "[Errno 2] No such file or directory: '/home/jan/Documents/MastatThesis/Data/xVertSeg/metadata.csv'",
     "output_type": "error",
     "traceback": [
      "\u001b[0;31m---------------------------------------------------------------------------\u001b[0m",
      "\u001b[0;31mFileNotFoundError\u001b[0m                         Traceback (most recent call last)",
      "\u001b[0;32m<ipython-input-5-232c490523b5>\u001b[0m in \u001b[0;36m<module>\u001b[0;34m\u001b[0m\n\u001b[1;32m      1\u001b[0m \u001b[0mdata_folder\u001b[0m \u001b[0;34m=\u001b[0m \u001b[0mos\u001b[0m\u001b[0;34m.\u001b[0m\u001b[0mpath\u001b[0m\u001b[0;34m.\u001b[0m\u001b[0mjoin\u001b[0m\u001b[0;34m(\u001b[0m\u001b[0mbase_path\u001b[0m\u001b[0;34m,\u001b[0m \u001b[0;34m'xVertSeg'\u001b[0m\u001b[0;34m)\u001b[0m\u001b[0;34m\u001b[0m\u001b[0;34m\u001b[0m\u001b[0m\n\u001b[1;32m      2\u001b[0m \u001b[0mmetadata_file\u001b[0m \u001b[0;34m=\u001b[0m \u001b[0mos\u001b[0m\u001b[0;34m.\u001b[0m\u001b[0mpath\u001b[0m\u001b[0;34m.\u001b[0m\u001b[0mjoin\u001b[0m\u001b[0;34m(\u001b[0m\u001b[0mdata_folder\u001b[0m\u001b[0;34m,\u001b[0m \u001b[0;34m'metadata.csv'\u001b[0m\u001b[0;34m)\u001b[0m\u001b[0;34m\u001b[0m\u001b[0;34m\u001b[0m\u001b[0m\n\u001b[0;32m----> 3\u001b[0;31m \u001b[0mmetadata\u001b[0m \u001b[0;34m=\u001b[0m \u001b[0mpd\u001b[0m\u001b[0;34m.\u001b[0m\u001b[0mread_csv\u001b[0m\u001b[0;34m(\u001b[0m\u001b[0mmetadata_file\u001b[0m\u001b[0;34m,\u001b[0m \u001b[0msep\u001b[0m\u001b[0;34m=\u001b[0m\u001b[0;34m','\u001b[0m\u001b[0;34m,\u001b[0m \u001b[0mindex_col\u001b[0m\u001b[0;34m=\u001b[0m\u001b[0;36m0\u001b[0m\u001b[0;34m)\u001b[0m\u001b[0;34m\u001b[0m\u001b[0;34m\u001b[0m\u001b[0m\n\u001b[0m\u001b[1;32m      4\u001b[0m \u001b[0mmetadata\u001b[0m\u001b[0;34m[\u001b[0m\u001b[0;34m'x_dim'\u001b[0m\u001b[0;34m]\u001b[0m \u001b[0;34m=\u001b[0m \u001b[0mmetadata\u001b[0m\u001b[0;34m.\u001b[0m\u001b[0mX\u001b[0m \u001b[0;34m*\u001b[0m \u001b[0mmetadata\u001b[0m\u001b[0;34m.\u001b[0m\u001b[0mΔX\u001b[0m\u001b[0;34m\u001b[0m\u001b[0;34m\u001b[0m\u001b[0m\n\u001b[1;32m      5\u001b[0m \u001b[0mmetadata\u001b[0m\u001b[0;34m[\u001b[0m\u001b[0;34m'y_dim'\u001b[0m\u001b[0;34m]\u001b[0m \u001b[0;34m=\u001b[0m \u001b[0mmetadata\u001b[0m\u001b[0;34m.\u001b[0m\u001b[0mY\u001b[0m \u001b[0;34m*\u001b[0m \u001b[0mmetadata\u001b[0m\u001b[0;34m.\u001b[0m\u001b[0mΔY\u001b[0m\u001b[0;34m\u001b[0m\u001b[0;34m\u001b[0m\u001b[0m\n",
      "\u001b[0;32m~/miniconda3/envs/thesis/lib/python3.8/site-packages/pandas/io/parsers.py\u001b[0m in \u001b[0;36mread_csv\u001b[0;34m(filepath_or_buffer, sep, delimiter, header, names, index_col, usecols, squeeze, prefix, mangle_dupe_cols, dtype, engine, converters, true_values, false_values, skipinitialspace, skiprows, skipfooter, nrows, na_values, keep_default_na, na_filter, verbose, skip_blank_lines, parse_dates, infer_datetime_format, keep_date_col, date_parser, dayfirst, cache_dates, iterator, chunksize, compression, thousands, decimal, lineterminator, quotechar, quoting, doublequote, escapechar, comment, encoding, dialect, error_bad_lines, warn_bad_lines, delim_whitespace, low_memory, memory_map, float_precision, storage_options)\u001b[0m\n\u001b[1;32m    608\u001b[0m     \u001b[0mkwds\u001b[0m\u001b[0;34m.\u001b[0m\u001b[0mupdate\u001b[0m\u001b[0;34m(\u001b[0m\u001b[0mkwds_defaults\u001b[0m\u001b[0;34m)\u001b[0m\u001b[0;34m\u001b[0m\u001b[0;34m\u001b[0m\u001b[0m\n\u001b[1;32m    609\u001b[0m \u001b[0;34m\u001b[0m\u001b[0m\n\u001b[0;32m--> 610\u001b[0;31m     \u001b[0;32mreturn\u001b[0m \u001b[0m_read\u001b[0m\u001b[0;34m(\u001b[0m\u001b[0mfilepath_or_buffer\u001b[0m\u001b[0;34m,\u001b[0m \u001b[0mkwds\u001b[0m\u001b[0;34m)\u001b[0m\u001b[0;34m\u001b[0m\u001b[0;34m\u001b[0m\u001b[0m\n\u001b[0m\u001b[1;32m    611\u001b[0m \u001b[0;34m\u001b[0m\u001b[0m\n\u001b[1;32m    612\u001b[0m \u001b[0;34m\u001b[0m\u001b[0m\n",
      "\u001b[0;32m~/miniconda3/envs/thesis/lib/python3.8/site-packages/pandas/io/parsers.py\u001b[0m in \u001b[0;36m_read\u001b[0;34m(filepath_or_buffer, kwds)\u001b[0m\n\u001b[1;32m    460\u001b[0m \u001b[0;34m\u001b[0m\u001b[0m\n\u001b[1;32m    461\u001b[0m     \u001b[0;31m# Create the parser.\u001b[0m\u001b[0;34m\u001b[0m\u001b[0;34m\u001b[0m\u001b[0;34m\u001b[0m\u001b[0m\n\u001b[0;32m--> 462\u001b[0;31m     \u001b[0mparser\u001b[0m \u001b[0;34m=\u001b[0m \u001b[0mTextFileReader\u001b[0m\u001b[0;34m(\u001b[0m\u001b[0mfilepath_or_buffer\u001b[0m\u001b[0;34m,\u001b[0m \u001b[0;34m**\u001b[0m\u001b[0mkwds\u001b[0m\u001b[0;34m)\u001b[0m\u001b[0;34m\u001b[0m\u001b[0;34m\u001b[0m\u001b[0m\n\u001b[0m\u001b[1;32m    463\u001b[0m \u001b[0;34m\u001b[0m\u001b[0m\n\u001b[1;32m    464\u001b[0m     \u001b[0;32mif\u001b[0m \u001b[0mchunksize\u001b[0m \u001b[0;32mor\u001b[0m \u001b[0miterator\u001b[0m\u001b[0;34m:\u001b[0m\u001b[0;34m\u001b[0m\u001b[0;34m\u001b[0m\u001b[0m\n",
      "\u001b[0;32m~/miniconda3/envs/thesis/lib/python3.8/site-packages/pandas/io/parsers.py\u001b[0m in \u001b[0;36m__init__\u001b[0;34m(self, f, engine, **kwds)\u001b[0m\n\u001b[1;32m    817\u001b[0m             \u001b[0mself\u001b[0m\u001b[0;34m.\u001b[0m\u001b[0moptions\u001b[0m\u001b[0;34m[\u001b[0m\u001b[0;34m\"has_index_names\"\u001b[0m\u001b[0;34m]\u001b[0m \u001b[0;34m=\u001b[0m \u001b[0mkwds\u001b[0m\u001b[0;34m[\u001b[0m\u001b[0;34m\"has_index_names\"\u001b[0m\u001b[0;34m]\u001b[0m\u001b[0;34m\u001b[0m\u001b[0;34m\u001b[0m\u001b[0m\n\u001b[1;32m    818\u001b[0m \u001b[0;34m\u001b[0m\u001b[0m\n\u001b[0;32m--> 819\u001b[0;31m         \u001b[0mself\u001b[0m\u001b[0;34m.\u001b[0m\u001b[0m_engine\u001b[0m \u001b[0;34m=\u001b[0m \u001b[0mself\u001b[0m\u001b[0;34m.\u001b[0m\u001b[0m_make_engine\u001b[0m\u001b[0;34m(\u001b[0m\u001b[0mself\u001b[0m\u001b[0;34m.\u001b[0m\u001b[0mengine\u001b[0m\u001b[0;34m)\u001b[0m\u001b[0;34m\u001b[0m\u001b[0;34m\u001b[0m\u001b[0m\n\u001b[0m\u001b[1;32m    820\u001b[0m \u001b[0;34m\u001b[0m\u001b[0m\n\u001b[1;32m    821\u001b[0m     \u001b[0;32mdef\u001b[0m \u001b[0mclose\u001b[0m\u001b[0;34m(\u001b[0m\u001b[0mself\u001b[0m\u001b[0;34m)\u001b[0m\u001b[0;34m:\u001b[0m\u001b[0;34m\u001b[0m\u001b[0;34m\u001b[0m\u001b[0m\n",
      "\u001b[0;32m~/miniconda3/envs/thesis/lib/python3.8/site-packages/pandas/io/parsers.py\u001b[0m in \u001b[0;36m_make_engine\u001b[0;34m(self, engine)\u001b[0m\n\u001b[1;32m   1048\u001b[0m             )\n\u001b[1;32m   1049\u001b[0m         \u001b[0;31m# error: Too many arguments for \"ParserBase\"\u001b[0m\u001b[0;34m\u001b[0m\u001b[0;34m\u001b[0m\u001b[0;34m\u001b[0m\u001b[0m\n\u001b[0;32m-> 1050\u001b[0;31m         \u001b[0;32mreturn\u001b[0m \u001b[0mmapping\u001b[0m\u001b[0;34m[\u001b[0m\u001b[0mengine\u001b[0m\u001b[0;34m]\u001b[0m\u001b[0;34m(\u001b[0m\u001b[0mself\u001b[0m\u001b[0;34m.\u001b[0m\u001b[0mf\u001b[0m\u001b[0;34m,\u001b[0m \u001b[0;34m**\u001b[0m\u001b[0mself\u001b[0m\u001b[0;34m.\u001b[0m\u001b[0moptions\u001b[0m\u001b[0;34m)\u001b[0m  \u001b[0;31m# type: ignore[call-arg]\u001b[0m\u001b[0;34m\u001b[0m\u001b[0;34m\u001b[0m\u001b[0m\n\u001b[0m\u001b[1;32m   1051\u001b[0m \u001b[0;34m\u001b[0m\u001b[0m\n\u001b[1;32m   1052\u001b[0m     \u001b[0;32mdef\u001b[0m \u001b[0m_failover_to_python\u001b[0m\u001b[0;34m(\u001b[0m\u001b[0mself\u001b[0m\u001b[0;34m)\u001b[0m\u001b[0;34m:\u001b[0m\u001b[0;34m\u001b[0m\u001b[0;34m\u001b[0m\u001b[0m\n",
      "\u001b[0;32m~/miniconda3/envs/thesis/lib/python3.8/site-packages/pandas/io/parsers.py\u001b[0m in \u001b[0;36m__init__\u001b[0;34m(self, src, **kwds)\u001b[0m\n\u001b[1;32m   1865\u001b[0m \u001b[0;34m\u001b[0m\u001b[0m\n\u001b[1;32m   1866\u001b[0m         \u001b[0;31m# open handles\u001b[0m\u001b[0;34m\u001b[0m\u001b[0;34m\u001b[0m\u001b[0;34m\u001b[0m\u001b[0m\n\u001b[0;32m-> 1867\u001b[0;31m         \u001b[0mself\u001b[0m\u001b[0;34m.\u001b[0m\u001b[0m_open_handles\u001b[0m\u001b[0;34m(\u001b[0m\u001b[0msrc\u001b[0m\u001b[0;34m,\u001b[0m \u001b[0mkwds\u001b[0m\u001b[0;34m)\u001b[0m\u001b[0;34m\u001b[0m\u001b[0;34m\u001b[0m\u001b[0m\n\u001b[0m\u001b[1;32m   1868\u001b[0m         \u001b[0;32massert\u001b[0m \u001b[0mself\u001b[0m\u001b[0;34m.\u001b[0m\u001b[0mhandles\u001b[0m \u001b[0;32mis\u001b[0m \u001b[0;32mnot\u001b[0m \u001b[0;32mNone\u001b[0m\u001b[0;34m\u001b[0m\u001b[0;34m\u001b[0m\u001b[0m\n\u001b[1;32m   1869\u001b[0m         \u001b[0;32mfor\u001b[0m \u001b[0mkey\u001b[0m \u001b[0;32min\u001b[0m \u001b[0;34m(\u001b[0m\u001b[0;34m\"storage_options\"\u001b[0m\u001b[0;34m,\u001b[0m \u001b[0;34m\"encoding\"\u001b[0m\u001b[0;34m,\u001b[0m \u001b[0;34m\"memory_map\"\u001b[0m\u001b[0;34m,\u001b[0m \u001b[0;34m\"compression\"\u001b[0m\u001b[0;34m)\u001b[0m\u001b[0;34m:\u001b[0m\u001b[0;34m\u001b[0m\u001b[0;34m\u001b[0m\u001b[0m\n",
      "\u001b[0;32m~/miniconda3/envs/thesis/lib/python3.8/site-packages/pandas/io/parsers.py\u001b[0m in \u001b[0;36m_open_handles\u001b[0;34m(self, src, kwds)\u001b[0m\n\u001b[1;32m   1360\u001b[0m         \u001b[0mLet\u001b[0m \u001b[0mthe\u001b[0m \u001b[0mreaders\u001b[0m \u001b[0mopen\u001b[0m \u001b[0mIOHanldes\u001b[0m \u001b[0mafter\u001b[0m \u001b[0mthey\u001b[0m \u001b[0mare\u001b[0m \u001b[0mdone\u001b[0m \u001b[0;32mwith\u001b[0m \u001b[0mtheir\u001b[0m \u001b[0mpotential\u001b[0m \u001b[0mraises\u001b[0m\u001b[0;34m.\u001b[0m\u001b[0;34m\u001b[0m\u001b[0;34m\u001b[0m\u001b[0m\n\u001b[1;32m   1361\u001b[0m         \"\"\"\n\u001b[0;32m-> 1362\u001b[0;31m         self.handles = get_handle(\n\u001b[0m\u001b[1;32m   1363\u001b[0m             \u001b[0msrc\u001b[0m\u001b[0;34m,\u001b[0m\u001b[0;34m\u001b[0m\u001b[0;34m\u001b[0m\u001b[0m\n\u001b[1;32m   1364\u001b[0m             \u001b[0;34m\"r\"\u001b[0m\u001b[0;34m,\u001b[0m\u001b[0;34m\u001b[0m\u001b[0;34m\u001b[0m\u001b[0m\n",
      "\u001b[0;32m~/miniconda3/envs/thesis/lib/python3.8/site-packages/pandas/io/common.py\u001b[0m in \u001b[0;36mget_handle\u001b[0;34m(path_or_buf, mode, encoding, compression, memory_map, is_text, errors, storage_options)\u001b[0m\n\u001b[1;32m    640\u001b[0m                 \u001b[0merrors\u001b[0m \u001b[0;34m=\u001b[0m \u001b[0;34m\"replace\"\u001b[0m\u001b[0;34m\u001b[0m\u001b[0;34m\u001b[0m\u001b[0m\n\u001b[1;32m    641\u001b[0m             \u001b[0;31m# Encoding\u001b[0m\u001b[0;34m\u001b[0m\u001b[0;34m\u001b[0m\u001b[0;34m\u001b[0m\u001b[0m\n\u001b[0;32m--> 642\u001b[0;31m             handle = open(\n\u001b[0m\u001b[1;32m    643\u001b[0m                 \u001b[0mhandle\u001b[0m\u001b[0;34m,\u001b[0m\u001b[0;34m\u001b[0m\u001b[0;34m\u001b[0m\u001b[0m\n\u001b[1;32m    644\u001b[0m                 \u001b[0mioargs\u001b[0m\u001b[0;34m.\u001b[0m\u001b[0mmode\u001b[0m\u001b[0;34m,\u001b[0m\u001b[0;34m\u001b[0m\u001b[0;34m\u001b[0m\u001b[0m\n",
      "\u001b[0;31mFileNotFoundError\u001b[0m: [Errno 2] No such file or directory: '/home/jan/Documents/MastatThesis/Data/xVertSeg/metadata.csv'"
     ]
    }
   ],
   "source": [
    "data_folder = os.path.join(base_path, 'xVertSeg')\n",
    "metadata_file = os.path.join(data_folder, 'metadata.csv')\n",
    "metadata = pd.read_csv(metadata_file, sep=',', index_col=0)\n",
    "metadata['x_dim'] = metadata.X * metadata.ΔX\n",
    "metadata['y_dim'] = metadata.Y * metadata.ΔY\n",
    "metadata['z_dim'] = metadata.Z * metadata.ΔZ"
   ]
  },
  {
   "cell_type": "code",
   "execution_count": null,
   "metadata": {},
   "outputs": [],
   "source": [
    "title = 'xVertSeg dataset\\n'"
   ]
  },
  {
   "cell_type": "code",
   "execution_count": null,
   "metadata": {},
   "outputs": [],
   "source": [
    "metadata.head()"
   ]
  },
  {
   "cell_type": "code",
   "execution_count": null,
   "metadata": {},
   "outputs": [],
   "source": [
    "xVertSeg_meta = metadata[metadata.Group == 'Data1']"
   ]
  },
  {
   "cell_type": "code",
   "execution_count": null,
   "metadata": {},
   "outputs": [],
   "source": [
    "print(xVertSeg_meta.groupby('Gender').count()['Name'])\n",
    "plt.figure(figsize=(4, 8))\n",
    "xVertSeg_meta.boxplot(by='Gender', column='Age', figsize=(2, 4), patch_artist=True)\n",
    "plt.ylabel('Patient age [y]')\n",
    "plt.ylim((0,100))\n",
    "plt.xticks([1, 2], ['F (8)', 'M (7)'])\n",
    "plt.title('')\n",
    "#plt.suptitle(title + 'age distribution')\n",
    "plt.suptitle('')\n",
    "\n",
    "tikzplotlib.save(os.path.join(graphs_path,'xVertSeg_ageboxplot.tex'), axis_width ='5cm', axis_height ='5cm')"
   ]
  },
  {
   "cell_type": "code",
   "execution_count": null,
   "metadata": {},
   "outputs": [],
   "source": [
    "xVertSeg_meta[['x_dim', 'y_dim', 'z_dim']].plot(kind = 'box', patch_artist=True)\n",
    "plt.ylabel('dimension [mm]')\n",
    "plt.xticks([1, 2, 3], ['left-right (x)', 'anteroposterior (y)', 'craniocaudal (z)'])\n",
    "#plt.title('Distribution of the xVertSeg volume dimensions')\n",
    "tikzplotlib.save(os.path.join(graphs_path,'xVertSeg_dimensionboxplot.tex'), axis_width ='9cm', axis_height ='5cm')\n",
    "\n",
    "xVertSeg_meta[['x_dim', 'y_dim', 'z_dim']].mean()"
   ]
  },
  {
   "cell_type": "markdown",
   "metadata": {},
   "source": [
    "Todo: Investigate very short sample further!"
   ]
  },
  {
   "cell_type": "code",
   "execution_count": null,
   "metadata": {},
   "outputs": [],
   "source": [
    "image_name = os.path.join(data_folder, 'Data1', 'images', 'image002.mhd')\n",
    "itkimage = sitk.ReadImage(image_name)\n",
    "\n",
    "fig, (ax1, ax2) = plt.subplots(1,2)\n",
    "\n",
    "plot_slice(itkimage, axis = 'z', s = 110, ax=ax1)\n",
    "ax1.set_xlabel('Left-right axis (x) [mm]')\n",
    "ax1.set_ylabel('Anteroposterior axis (y) [mm]')\n",
    "\n",
    "plot_slice(itkimage, axis = 'x', s = 200, ax=ax2)\n",
    "ax2.set_xlabel('Anteroposterior axis (y)[mm]')\n",
    "ax2.set_ylabel('Craniocaudal axis (z) [mm]')\n",
    "\n",
    "ax1.set_anchor('S')\n",
    "ax2.set_anchor('S')\n",
    "\n",
    "plt.tight_layout()\n",
    "\n",
    "plt.savefig(os.path.join(graphs_path,'xVertSeg_image002.png'))\n",
    "tikzplotlib.save(os.path.join(graphs_path,'xVertSeg_image002.tex'), axis_width ='9cm', axis_height ='5cm', textsize = 9)"
   ]
  },
  {
   "cell_type": "code",
   "execution_count": null,
   "metadata": {},
   "outputs": [],
   "source": [
    "plt.hist(sitk.GetArrayFromImage(itkimage).flatten(), bins = 15) \n",
    "tikzplotlib.save(os.path.join(graphs_path,'xVertSeg_image002_intensityhistogram.tex'))"
   ]
  },
  {
   "cell_type": "markdown",
   "metadata": {},
   "source": [
    "Conclusion: For the xVerSeg dataset:\n",
    "\n",
    " * x = Left-right axis  \n",
    " * y = Anteroposterior axis  \n",
    " * z = Craniocaudam axis"
   ]
  },
  {
   "cell_type": "code",
   "execution_count": null,
   "metadata": {
    "tags": []
   },
   "outputs": [],
   "source": [
    "scores_file = os.path.join(data_folder, 'Data1', 'scores', 'scores.csv')\n",
    "scores = pd.read_csv(scores_file, header=1)\n",
    "cases = {0:'normal',1:'wedge', 2:'biconcave', 3:'crush'}\n",
    "grad = {0:'normal', 1:'mild', 2:'moderate', 3:'severe'}\n",
    "scores = scores.replace({f'L{i} case' : cases for i in [1,2,3,4,5]} )\n",
    "scores = scores.replace({f'L{i} grade' : grad for i in [1,2,3,4,5]})\n",
    "scores.set_index('Spine image').transpose().to_latex(os.path.join(tables_path,'xVertSeg_pathologies.tex'), index=True)\n",
    "scores.head()"
   ]
  },
  {
   "cell_type": "code",
   "execution_count": null,
   "metadata": {},
   "outputs": [],
   "source": [
    "counts = pd.DataFrame()\n",
    "for i in [1,2,3,4,5]:\n",
    "    counts[f'L{i}'] = scores[f'L{i} case'].value_counts().astype(int)"
   ]
  },
  {
   "cell_type": "code",
   "execution_count": null,
   "metadata": {},
   "outputs": [],
   "source": [
    "counts = counts.fillna(0).astype(int)\n",
    "counts['Total'] = counts.sum(axis=1)\n",
    "counts.to_latex(os.path.join(tables_path,'xVertSeg_pathologies_summary.tex'), index=True)\n",
    "counts"
   ]
  },
  {
   "cell_type": "code",
   "execution_count": null,
   "metadata": {},
   "outputs": [],
   "source": [
    "metadata.columns"
   ]
  },
  {
   "cell_type": "code",
   "execution_count": null,
   "metadata": {},
   "outputs": [],
   "source": [
    "metadata['Dataset'] = 'xVertSeg'\n",
    "metadata['Imaging_technology'] = 'CT'\n",
    "metadata['Patient ID'] = ['xVertSeg_{}'.format(i) for i in metadata.index]\n",
    "\n",
    "\n",
    "df_all = df_all.append(metadata[['x_dim', \n",
    "                                 'y_dim', \n",
    "                                 'z_dim', \n",
    "                                 'Dataset', \n",
    "                                 'Age', \n",
    "                                 'Gender',\n",
    "                                'Imaging_technology',\n",
    "                                'Patient ID', 'ΔX', 'ΔY', 'ΔZ']].rename(columns = {'x_dim' : 'Left_right',\n",
    "                                                   'y_dim' : 'Anteroposterior',\n",
    "                                                   'z_dim' : 'Craniocaudal', 'ΔY':'Anteroposterior_delta', 'ΔZ': 'Craniocaudal_delta', 'ΔX' : 'Left_right_delta'}))\n",
    "df_all"
   ]
  },
  {
   "cell_type": "markdown",
   "metadata": {},
   "source": [
    "## USiegen"
   ]
  },
  {
   "cell_type": "markdown",
   "metadata": {},
   "source": [
    "doi.org/10.1111/cgf.12343]"
   ]
  },
  {
   "cell_type": "code",
   "execution_count": null,
   "metadata": {},
   "outputs": [],
   "source": [
    "data_folder = os.path.join(base_path, 'USiegen')\n",
    "title = 'USiegen dataset\\n'"
   ]
  },
  {
   "cell_type": "code",
   "execution_count": null,
   "metadata": {},
   "outputs": [],
   "source": [
    "metadata_file = os.path.join(data_folder, 'metadata.csv')\n",
    "USiegen_meta = pd.read_csv(metadata_file, sep=',').rename(columns={\"Sex\": \"Gender\"})\n",
    "USiegen_meta['Dataset'] = USiegen_meta['Dataset'].str.encode('utf-8').astype('string')\n",
    "USiegen_meta['Dataset'] = USiegen_meta.Dataset.apply(lambda x : x.split(\"\\'\")[1])\n",
    "USiegen_meta['Gender'] = USiegen_meta.Gender.astype('category')"
   ]
  },
  {
   "cell_type": "code",
   "execution_count": null,
   "metadata": {},
   "outputs": [],
   "source": [
    "USiegen_meta['Patient ID'] = USiegen_meta['Patient ID'].apply(lambda x : f'USiegen_{int(x)}')\n",
    "USiegen_meta"
   ]
  },
  {
   "cell_type": "code",
   "execution_count": null,
   "metadata": {},
   "outputs": [],
   "source": [
    "image_name = os.path.join(data_folder, 'SpineDatasets', 'AKa3.dcm')\n",
    "itkimage = sitk.ReadImage(image_name)\n",
    "\n",
    "fig, (ax1, ax2) = plt.subplots(1,2)\n",
    "\n",
    "plot_slice(itkimage, axis = 'z', s = 40, ax=ax1)\n",
    "ax1.set_xlabel('Anteroposterior\\naxis (x) [mm]')\n",
    "ax1.set_ylabel('Craniocaudal\\naxis (y) [mm]')\n",
    "ax1.set_xticks([])\n",
    "ax1.set_yticks([])\n",
    "\n",
    "plot_slice(itkimage, axis = 'y', s = 40, ax=ax2)\n",
    "ax2.set_xlabel('Anteroposterior axis (x) [mm]')\n",
    "ax2.set_ylabel('Left-right axis\\n(z) [mm]')\n",
    "ax2.set_xticks([])\n",
    "ax2.set_yticks([])\n",
    "\n",
    "ax1.set_anchor('S')\n",
    "ax2.set_anchor('S')\n",
    "\n",
    "plt.tight_layout()\n",
    "\n",
    "plt.savefig(os.path.join(graphs_path,'USiegen_Aka3.png'))\n",
    "tikzplotlib.save(os.path.join(graphs_path,'USiegen_Aka3.tex'), axis_width ='9cm', axis_height ='5cm', textsize = 9)"
   ]
  },
  {
   "cell_type": "code",
   "execution_count": null,
   "metadata": {},
   "outputs": [],
   "source": [
    "image_name = os.path.join(data_folder, 'SpineSegmented', 'AKa3', 'L1.mha')\n",
    "print(image_name)\n",
    "itkimage = sitk.ReadImage(image_name)\n",
    "\n",
    "fig, (ax1, ax2) = plt.subplots(1,2)\n",
    "\n",
    "plot_slice(itkimage, axis = 'z', s = 40, ax=ax1)\n",
    "ax1.set_xlabel('Anteroposterior axis (x) [mm]')\n",
    "ax1.set_ylabel('Craniocaudal axis (y) [mm]')\n",
    "\n",
    "plot_slice(itkimage, axis = 'y', s = 40, ax=ax2)\n",
    "ax2.set_xlabel('Anteroposterior axis (x) [mm]')\n",
    "ax2.set_ylabel('Left-right axis (z) [mm]')\n",
    "\n",
    "ax1.set_anchor('S')\n",
    "ax2.set_anchor('S')\n",
    "\n",
    "plt.tight_layout()\n",
    "\n",
    "print(f'unique values : {np.unique(sitk.GetArrayFromImage(itkimage))}')"
   ]
  },
  {
   "cell_type": "code",
   "execution_count": null,
   "metadata": {},
   "outputs": [],
   "source": [
    "plt.hist(sitk.GetArrayFromImage(itkimage).flatten(), bins = 15) \n",
    "plt.title(\"Intensity histogram AKa3\") \n",
    "tikzplotlib.save(os.path.join(graphs_path,'USiegen_AKa3_intensityhistogram.tex'))"
   ]
  },
  {
   "cell_type": "markdown",
   "metadata": {},
   "source": [
    "Conclusion: For the USiegen dataset:\n",
    "\n",
    " * x = Anteroposterior axis  \n",
    " * y = Craniocaudal axis\n",
    " * z = Left-right axis"
   ]
  },
  {
   "cell_type": "code",
   "execution_count": null,
   "metadata": {},
   "outputs": [],
   "source": [
    "spines = os.path.join(data_folder, 'SpineDatasets')\n",
    "\n",
    "ls_name = []\n",
    "ls_x = []\n",
    "ls_y = []\n",
    "ls_z = []\n",
    "\n",
    "ls_Δx = []\n",
    "ls_Δy = []\n",
    "ls_Δz = []\n",
    "\n",
    "for file in os.listdir(spines):\n",
    "    itkimage = sitk.ReadImage(os.path.join(spines, file))\n",
    "    # print(f'file : {file} - size : {itkimage.GetSize()} - spacing : {itkimage.GetSpacing()}')\n",
    "    ls_name.append(file.split('.')[0])\n",
    "    x, y, z = itkimage.GetSize()\n",
    "    Δx, Δy, Δz = itkimage.GetSpacing()\n",
    "    ls_x.append(x)\n",
    "    ls_y.append(y)\n",
    "    ls_z.append(z)\n",
    "    ls_Δx.append(Δx)\n",
    "    ls_Δy.append(Δy)\n",
    "    ls_Δz.append(Δz)\n",
    "    \n",
    "USiegen_sizes = pd.DataFrame(data={\n",
    "    'Dataset' : ls_name,\n",
    "    'X':ls_x,\n",
    "    'Y':ls_y,\n",
    "    'Z':ls_z,\n",
    "    'ΔX':ls_Δx,\n",
    "    'ΔY':ls_Δy,\n",
    "    'ΔZ':ls_Δz\n",
    "})\n",
    "\n",
    "USiegen_sizes['Dataset'] = USiegen_sizes['Dataset'].str.encode('utf-8').astype('string')\n",
    "\n",
    "USiegen_sizes['Dataset'] = USiegen_sizes.Dataset.apply(lambda x : x.split(\"\\'\")[1])"
   ]
  },
  {
   "cell_type": "code",
   "execution_count": null,
   "metadata": {},
   "outputs": [],
   "source": [
    "USiegen_meta = USiegen_sizes.set_index('Dataset').join(USiegen_meta.set_index('Dataset'))\n",
    "\n",
    "USiegen_meta['x_dim'] = USiegen_meta.X * USiegen_meta.ΔX\n",
    "USiegen_meta['y_dim'] = USiegen_meta.Y * USiegen_meta.ΔY\n",
    "USiegen_meta['z_dim'] = USiegen_meta.Z * USiegen_meta.ΔZ\n",
    "\n",
    "USiegen_meta"
   ]
  },
  {
   "cell_type": "code",
   "execution_count": null,
   "metadata": {},
   "outputs": [],
   "source": [
    "USiegen_meta.describe()"
   ]
  },
  {
   "cell_type": "code",
   "execution_count": null,
   "metadata": {},
   "outputs": [],
   "source": [
    "print(USiegen_meta.groupby('Gender').count()['SB'])\n",
    "\n",
    "USiegen_meta.boxplot(by='Gender', column='Age', patch_artist=True)\n",
    "plt.ylabel('Patient age [y]')\n",
    "plt.ylim((0,100))\n",
    "plt.xticks([1, 2], ['F(11)', 'M(6)'])\n",
    "plt.title('')\n",
    "plt.grid(linestyle = ':', alpha = .5)\n",
    "plt.suptitle('')\n",
    "\n",
    "tikzplotlib.save(os.path.join(graphs_path,'USiegen_ageboxplot.tex'), axis_width ='5cm', axis_height ='5cm', textsize = 9)"
   ]
  },
  {
   "cell_type": "code",
   "execution_count": null,
   "metadata": {},
   "outputs": [],
   "source": [
    "plt.figure()\n",
    "\n",
    "plt.subplot(2,1,1)\n",
    "\n",
    "USiegen_meta[['x_dim', 'y_dim', 'z_dim']].plot(kind = 'box', ax=plt.gca(), patch_artist=True)\n",
    "plt.ylabel('dimension [mm]')\n",
    "plt.xticks([1, 2, 3], ['', '', ''])\n",
    "plt.title('')\n",
    "\n",
    "plt.subplot(2,1,2)\n",
    "\n",
    "USiegen_meta[['ΔX', 'ΔY', 'ΔZ']].plot(kind = 'box', ax=plt.gca(), patch_artist=True)\n",
    "plt.ylabel('spacing [mm]')\n",
    "plt.xticks([1, 2, 3], ['anteroposterior (x)', 'craniocaudal (y)', 'left-right (z)'])\n",
    "plt.title('')\n",
    "plt.tight_layout()\n",
    "tikzplotlib.save(os.path.join(graphs_path,'USiegen_dimensionboxplot.tex'), axis_width ='9cm', axis_height ='7cm', textsize = 9)"
   ]
  },
  {
   "cell_type": "markdown",
   "metadata": {},
   "source": [
    "Conclusion: For the USiegen dataset:\n",
    "\n",
    " * x = Anteroposterior axis  \n",
    " * y = Craniocaudal axis\n",
    " * z = Left-right axis"
   ]
  },
  {
   "cell_type": "code",
   "execution_count": null,
   "metadata": {},
   "outputs": [],
   "source": [
    "metadata = USiegen_meta\n",
    "metadata['Dataset'] = 'USiegen'\n",
    "metadata['Imaging_technology'] = 'CT'\n",
    "\n",
    "df_all = df_all.append(metadata[['x_dim', \n",
    "                                 'y_dim', \n",
    "                                 'z_dim', \n",
    "                                 'Dataset', \n",
    "                                 'Age', \n",
    "                                 'Gender',\n",
    "                                'Imaging_technology', 'Patient ID', 'ΔX', 'ΔY', 'ΔZ']].rename(columns = {'z_dim' : 'Left_right',\n",
    "                                                   'x_dim' : 'Anteroposterior',\n",
    "                                                   'y_dim' : 'Craniocaudal', 'ΔX':'Anteroposterior_delta', 'ΔY': 'Craniocaudal_delta', 'ΔZ' : 'Left_right_delta'}))"
   ]
  },
  {
   "cell_type": "markdown",
   "metadata": {},
   "source": [
    "## MyoSegment_TUM\n",
    "OSF Sara Schlaeger"
   ]
  },
  {
   "cell_type": "markdown",
   "metadata": {},
   "source": [
    "    DOI: 10.1186/s12891-019-2528-x"
   ]
  },
  {
   "cell_type": "code",
   "execution_count": null,
   "metadata": {},
   "outputs": [],
   "source": [
    "data_folder = os.path.join(base_path, 'OSF_Sarah_Schlaeger')\n",
    "title = 'OSF dataset\\n'"
   ]
  },
  {
   "cell_type": "code",
   "execution_count": null,
   "metadata": {},
   "outputs": [],
   "source": [
    "OSF_meta = pd.read_excel(os.path.join(data_folder, 'Table1.xlsx'))\n",
    "OSF_meta = OSF_meta.rename(columns = {'sex' : 'Gender', 'age [y]' : 'Age', 'height[m]':'Height'\n",
    "                                      , 'BMI [kg/m^2]' : 'BMI', 'weight [kg]' : 'Weight', 'ID' : 'Dataset'})\n",
    "\n",
    "sex_encode = {'female' : 'F', 'male' : 'M'}\n",
    "OSF_meta = OSF_meta = OSF_meta.replace({'Gender' : sex_encode} )\n",
    "OSF_meta['Gender'] = OSF_meta['Gender'].astype('category')\n",
    "OSF_meta['Patient ID'] = [f'OSF_{i}' for i in OSF_meta.index]"
   ]
  },
  {
   "cell_type": "code",
   "execution_count": null,
   "metadata": {},
   "outputs": [],
   "source": [
    "OSF_meta.head()"
   ]
  },
  {
   "cell_type": "code",
   "execution_count": null,
   "metadata": {},
   "outputs": [],
   "source": [
    "print(OSF_meta.groupby('Gender').count()['Dataset'])\n",
    "OSF_meta.boxplot(by='Gender', column='Age', patch_artist=True)\n",
    "plt.ylabel('Patient age [y]')\n",
    "plt.ylim((0,100))\n",
    "plt.xticks([1, 2], ['F(39)', 'M(15)'])\n",
    "plt.title('')\n",
    "\n",
    "plt.suptitle('')\n",
    "\n",
    "tikzplotlib.save(os.path.join(graphs_path,'OSF_ageboxplot.tex'), axis_width ='5cm', axis_height ='5cm', textsize = 9)"
   ]
  },
  {
   "cell_type": "code",
   "execution_count": null,
   "metadata": {},
   "outputs": [],
   "source": [
    "OSF_meta.boxplot(by='Gender', column='BMI', patch_artist=True)\n",
    "plt.ylabel('Patient BMI')\n",
    "plt.xticks([1, 2], ['F(39)', 'M(15)'])\n",
    "plt.title('')\n",
    "plt.grid(False)\n",
    "plt.suptitle('')\n",
    "\n",
    "tikzplotlib.save(os.path.join(graphs_path,'OSF_BMIboxplot.tex'), axis_width ='5cm', axis_height ='5cm', textsize = 9)"
   ]
  },
  {
   "cell_type": "code",
   "execution_count": null,
   "metadata": {},
   "outputs": [],
   "source": [
    "OSF_meta.boxplot(by='Gender', column='Height', patch_artist=True)\n",
    "plt.ylabel('Patient Height [m]')\n",
    "plt.xticks([1, 2], ['F(39)', 'M(15)'])\n",
    "plt.title('')\n",
    "\n",
    "plt.suptitle('')\n",
    "\n",
    "tikzplotlib.save(os.path.join(graphs_path,'OSF_Heightboxplot.tex'), axis_width ='5cm', axis_height ='5cm', textsize = 9)"
   ]
  },
  {
   "cell_type": "code",
   "execution_count": null,
   "metadata": {},
   "outputs": [],
   "source": [
    "image_name = os.path.join(data_folder, '02', '02', 'vertebrae', 'T2star.dcm')\n",
    "itkimage = sitk.ReadImage(image_name)\n",
    "\n",
    "fig, (ax1, ax2) = plt.subplots(1,2)\n",
    "\n",
    "plot_slice(itkimage, axis = 'z', s = 40, ax=ax1)\n",
    "ax1.set_xlabel('Anteroposterior\\naxis (x) [mm]')\n",
    "ax1.set_ylabel('Craniocaudal\\naxis (y) [mm]')\n",
    "\n",
    "plot_slice(itkimage, axis = 'y', s = 40, ax=ax2)\n",
    "ax2.set_xlabel('Anteroposterior\\naxis (x) [mm]')\n",
    "ax2.set_ylabel('Left-right\\naxis (z) [mm]')\n",
    "\n",
    "ax1.set_anchor('S')\n",
    "ax2.set_anchor('S')\n",
    "\n",
    "plt.tight_layout()\n",
    "\n",
    "plt.savefig(os.path.join(graphs_path,'OSF_02.png'))\n",
    "tikzplotlib.save(os.path.join(graphs_path,'OSF_02.tex'), axis_width ='9cm', axis_height ='5cm', textsize = 9)"
   ]
  },
  {
   "cell_type": "code",
   "execution_count": null,
   "metadata": {},
   "outputs": [],
   "source": [
    "plt.hist(sitk.GetArrayFromImage(itkimage).flatten(), bins = 15) \n",
    "plt.title(\"Intensity histogram image 02\") \n",
    "tikzplotlib.save(os.path.join(graphs_path,'OSF_02_intensityhistogram.tex'))"
   ]
  },
  {
   "cell_type": "code",
   "execution_count": null,
   "metadata": {},
   "outputs": [],
   "source": [
    "ls_name = []\n",
    "ls_x = []\n",
    "ls_y = []\n",
    "ls_z = []\n",
    "\n",
    "ls_Δx = []\n",
    "ls_Δy = []\n",
    "ls_Δz = []\n",
    "\n",
    "for i in range(1,54):\n",
    "    file_name = os.path.join(data_folder, f'{i:02d}', f'{i:02d}', 'vertebrae', 'T2star.dcm')\n",
    "    itkimage = sitk.ReadImage(file_name)\n",
    "    ls_name.append(i)\n",
    "    x, y, z = itkimage.GetSize()\n",
    "    Δx, Δy, Δz = itkimage.GetSpacing()\n",
    "    ls_x.append(x)\n",
    "    ls_y.append(y)\n",
    "    ls_z.append(z)\n",
    "    ls_Δx.append(Δx)\n",
    "    ls_Δy.append(Δy)\n",
    "    ls_Δz.append(Δz)\n",
    "    \n",
    "OSF_sizes = pd.DataFrame(data={\n",
    "    'Dataset' : ls_name,\n",
    "    'X':ls_x,\n",
    "    'Y':ls_y,\n",
    "    'Z':ls_z,\n",
    "    'ΔX':ls_Δx,\n",
    "    'ΔY':ls_Δy,\n",
    "    'ΔZ':ls_Δz\n",
    "})\n"
   ]
  },
  {
   "cell_type": "code",
   "execution_count": null,
   "metadata": {},
   "outputs": [],
   "source": [
    "OSF_meta = OSF_sizes.set_index('Dataset').join(OSF_meta.set_index('Dataset'))\n",
    "\n",
    "OSF_meta['x_dim'] = OSF_meta.X * OSF_meta.ΔX\n",
    "OSF_meta['y_dim'] = OSF_meta.Y * OSF_meta.ΔY\n",
    "OSF_meta['z_dim'] = OSF_meta.Z * OSF_meta.ΔZ\n",
    "\n",
    "OSF_meta.head()"
   ]
  },
  {
   "cell_type": "code",
   "execution_count": null,
   "metadata": {},
   "outputs": [],
   "source": [
    "OSF_meta.describe()"
   ]
  },
  {
   "cell_type": "code",
   "execution_count": null,
   "metadata": {},
   "outputs": [],
   "source": [
    "plt.figure()\n",
    "\n",
    "plt.subplot(2,1,1)\n",
    "\n",
    "OSF_meta[['x_dim', 'y_dim', 'z_dim']].plot(kind = 'box', ax=plt.gca(), patch_artist=True)\n",
    "plt.ylabel('dimension [mm]')\n",
    "plt.xticks([1, 2, 3], ['', '', ''])\n",
    "plt.title('')\n",
    "\n",
    "plt.subplot(2,1,2)\n",
    "\n",
    "OSF_meta[['ΔX', 'ΔY', 'ΔZ']].plot(kind = 'box', ax=plt.gca())\n",
    "plt.ylabel('spacing [mm]')\n",
    "plt.xticks([1, 2, 3], ['anteroposterior (x)', 'craniocaudal (y)', 'left-right (z)'])\n",
    "plt.title('')\n",
    "plt.tight_layout()\n",
    "tikzplotlib.save(os.path.join(graphs_path,'OSF_dimensionboxplot.tex'), axis_width ='9cm', axis_height ='7cm', textsize = 9)"
   ]
  },
  {
   "cell_type": "markdown",
   "metadata": {},
   "source": [
    "Conclusion: For the USiegen dataset:\n",
    "\n",
    " * x = Anteroposterior axis  \n",
    " * y = Craniocaudal axis\n",
    " * z = Left-right axis"
   ]
  },
  {
   "cell_type": "code",
   "execution_count": null,
   "metadata": {},
   "outputs": [],
   "source": [
    "metadata = OSF_meta\n",
    "metadata['Dataset'] = 'MyoSegment_TUM'\n",
    "metadata['Imaging_technology'] = 'MRI'\n",
    "\n",
    "df_all = df_all.append(metadata[['x_dim', \n",
    "                                 'y_dim', \n",
    "                                 'z_dim', \n",
    "                                 'Dataset', \n",
    "                                 'Age', \n",
    "                                 'Gender',\n",
    "                                'Imaging_technology', \n",
    "                                 'Patient ID', 'ΔX', 'ΔY', 'ΔZ']].rename(columns = {'z_dim' : 'Left_right',\n",
    "                                                   'x_dim' : 'Anteroposterior',\n",
    "                                                   'y_dim' : 'Craniocaudal', 'ΔX':'Anteroposterior_delta', 'ΔY': 'Craniocaudal_delta', 'ΔZ' : 'Left_right_delta'}))"
   ]
  },
  {
   "cell_type": "markdown",
   "metadata": {},
   "source": [
    "## Zenodo"
   ]
  },
  {
   "cell_type": "markdown",
   "metadata": {},
   "source": [
    "https://zenodo.org/record/22304#.YE-XE_4o82B"
   ]
  },
  {
   "cell_type": "code",
   "execution_count": null,
   "metadata": {},
   "outputs": [],
   "source": [
    "data_folder = os.path.join(base_path, 'Zenodo')"
   ]
  },
  {
   "cell_type": "code",
   "execution_count": null,
   "metadata": {},
   "outputs": [],
   "source": [
    "ls_name = []\n",
    "ls_x = []\n",
    "ls_y = []\n",
    "ls_z = []\n",
    "\n",
    "ls_Δx = []\n",
    "ls_Δy = []\n",
    "ls_Δz = []\n",
    "\n",
    "for i in range(1, 23):\n",
    "    file_name = os.path.join(data_folder, f'Img_{i:02d}.nii')\n",
    "    itkimage = sitk.ReadImage(file_name)\n",
    "    ls_name.append(i)\n",
    "    x, y, z = itkimage.GetSize()\n",
    "    Δx, Δy, Δz = itkimage.GetSpacing()\n",
    "    ls_x.append(x)\n",
    "    ls_y.append(y)\n",
    "    ls_z.append(z)\n",
    "    ls_Δx.append(Δx)\n",
    "    ls_Δy.append(Δy)\n",
    "    ls_Δz.append(Δz)\n",
    "\n",
    "Zenodo_meta = pd.DataFrame(data={\n",
    "    'Dataset' : ls_name,\n",
    "    'X':ls_x,\n",
    "    'Y':ls_y,\n",
    "    'Z':ls_z,\n",
    "    'ΔX':ls_Δx,\n",
    "    'ΔY':ls_Δy,\n",
    "    'ΔZ':ls_Δz\n",
    "})\n",
    "\n",
    "Zenodo_meta['x_dim'] = Zenodo_meta.X * Zenodo_meta.ΔX\n",
    "Zenodo_meta['y_dim'] = Zenodo_meta.Y * Zenodo_meta.ΔY\n",
    "Zenodo_meta['z_dim'] = Zenodo_meta.Z * Zenodo_meta.ΔZ\n",
    "\n",
    "Zenodo_meta['Patient ID'] = [f'Zenodo_{i}' for i in Zenodo_meta.index]"
   ]
  },
  {
   "cell_type": "code",
   "execution_count": null,
   "metadata": {},
   "outputs": [],
   "source": [
    "image_name = os.path.join(data_folder, f'Img_02.nii')\n",
    "itkimage = sitk.ReadImage(image_name)\n",
    "\n",
    "fig, (ax1, ax2) = plt.subplots(1,2)\n",
    "\n",
    "plot_slice(itkimage, axis = 'z', s = 190, ax=ax1)\n",
    "ax1.set_xlabel('left-right axis (x) [mm]')\n",
    "ax1.set_ylabel('Anteroposterior axis (y) [mm]')\n",
    "\n",
    "plot_slice(itkimage, axis = 'x', s = 40, ax=ax2)\n",
    "ax2.set_xlabel('Anteroposterior axis (x) [mm]')\n",
    "ax2.set_ylabel('Craniocaudal axis (z) [mm]')\n",
    "\n",
    "ax1.set_anchor('S')\n",
    "ax2.set_anchor('S')\n",
    "\n",
    "plt.tight_layout()\n",
    "\n",
    "plt.savefig(os.path.join(graphs_path,'PLoS_img02.png'))\n",
    "tikzplotlib.save(os.path.join(graphs_path,'PLoS_img02.tex'), axis_width ='9cm', axis_height ='5cm', textsize = 9)"
   ]
  },
  {
   "cell_type": "code",
   "execution_count": null,
   "metadata": {},
   "outputs": [],
   "source": [
    "image_name = os.path.join(data_folder, f'Img_02_Labels.nii')\n",
    "itkimage = sitk.ReadImage(image_name)\n",
    "\n",
    "fig, (ax1, ax2) = plt.subplots(1,2)\n",
    "\n",
    "plot_slice(itkimage, axis = 'z', s = 190, ax=ax1)\n",
    "ax1.set_xlabel('left-right axis (x) [mm]')\n",
    "ax1.set_ylabel('Anteroposterior axis (y) [mm]')\n",
    "\n",
    "plot_slice(itkimage, axis = 'x', s = 40, ax=ax2)\n",
    "ax2.set_xlabel('Anteroposterior axis (x) [mm]')\n",
    "ax2.set_ylabel('Craniocaudal axis (z) [mm]')\n",
    "\n",
    "ax1.set_anchor('S')\n",
    "ax2.set_anchor('S')\n",
    "\n",
    "plt.tight_layout()"
   ]
  },
  {
   "cell_type": "code",
   "execution_count": null,
   "metadata": {},
   "outputs": [],
   "source": [
    "plt.hist(sitk.GetArrayFromImage(itkimage).flatten(), bins = 15) \n",
    "plt.title(\"Intensity histogram image 4564688\") \n",
    "tikzplotlib.save(os.path.join(graphs_path,'PLoS_img02_intensityhistogram.tex'))"
   ]
  },
  {
   "cell_type": "code",
   "execution_count": null,
   "metadata": {},
   "outputs": [],
   "source": [
    "plt.figure()\n",
    "\n",
    "plt.subplot(2,1,1)\n",
    "\n",
    "Zenodo_meta[['x_dim', 'y_dim', 'z_dim']].plot(kind = 'box', ax=plt.gca(), patch_artist=True)\n",
    "plt.ylabel('dimension [mm]')\n",
    "plt.xticks([1, 2, 3], ['', '', ''])\n",
    "plt.title('')\n",
    "\n",
    "plt.subplot(2,1,2)\n",
    "\n",
    "Zenodo_meta[['ΔX', 'ΔY', 'ΔZ']].plot(kind = 'box', ax=plt.gca(), patch_artist=True)\n",
    "plt.ylabel('spacing [mm]')\n",
    "plt.xticks([1, 2, 3], ['left-right (x)', 'anteroposterior (y)', 'craniocaudal (z)'])\n",
    "plt.title('')\n",
    "plt.tight_layout()\n",
    "tikzplotlib.save(os.path.join(graphs_path,'PLoS_dimensionboxplot.tex'), axis_width ='5cm', axis_height ='15cm', textsize = 9)"
   ]
  },
  {
   "cell_type": "code",
   "execution_count": null,
   "metadata": {},
   "outputs": [],
   "source": [
    "Zenodo_meta.describe()"
   ]
  },
  {
   "cell_type": "code",
   "execution_count": null,
   "metadata": {},
   "outputs": [],
   "source": [
    "metadata = Zenodo_meta\n",
    "metadata['Dataset'] = 'PLoS'\n",
    "metadata['Imaging_technology'] = 'MRI'\n",
    "metadata['Age'] = 'Unknown'\n",
    "metadata['Gender'] = 'Unknown'\n",
    "\n",
    "print(f'Dimension before appending PLoS : {df_all.shape[0]}')\n",
    "\n",
    "df_all = df_all.append(metadata[['x_dim', \n",
    "                                 'y_dim', \n",
    "                                 'z_dim', \n",
    "                                 'Dataset', \n",
    "                                 'Age', \n",
    "                                 'Gender',\n",
    "                                'Imaging_technology', 'Patient ID', 'ΔX', 'ΔY', 'ΔZ']].rename(columns = {'x_dim' : 'Left_right',\n",
    "                                                   'y_dim' : 'Anteroposterior',\n",
    "                                                   'z_dim' : 'Craniocaudal', 'ΔY':'Anteroposterior_delta', 'ΔZ': 'Craniocaudal_delta', 'ΔX' : 'Left_right_delta'}))\n",
    "print(f'Dimension after appending PLoS : {df_all.shape[0]}')"
   ]
  },
  {
   "cell_type": "markdown",
   "metadata": {},
   "source": [
    "## University of Washington"
   ]
  },
  {
   "cell_type": "markdown",
   "metadata": {},
   "source": [
    "source : "
   ]
  },
  {
   "cell_type": "code",
   "execution_count": null,
   "metadata": {},
   "outputs": [],
   "source": [
    "data_folder = os.path.join(base_path, 'UWSpineCT-selected')\n",
    "\n",
    "metadata_file = os.path.join(data_folder, 'UWSpineCT-meta-data.xlsx')"
   ]
  },
  {
   "cell_type": "code",
   "execution_count": null,
   "metadata": {},
   "outputs": [],
   "source": [
    "UW_meta = pd.read_excel(metadata_file, sheet_name='allSpine-out-DH-orig', header=[0,1])\n",
    "UW_meta = UW_meta.drop(UW_meta.columns[2], axis=1)\n",
    "\n",
    "UW_meta"
   ]
  },
  {
   "cell_type": "code",
   "execution_count": null,
   "metadata": {},
   "outputs": [],
   "source": [
    "UW_meta_patients = UW_meta.iloc[:,[0,1,6,7,8]]\n",
    "UW_meta_patients = UW_meta_patients.dropna(axis=0)\n",
    "UW_meta_patients.columns = UW_meta_patients.columns.droplevel(0)\n",
    "#UW_meta_patients['Patient ID'] = UW_meta_patients['Patient ID'].apply(lambda x : f'UW_{int(x)}')\n",
    "UW_meta_patients.head()"
   ]
  },
  {
   "cell_type": "code",
   "execution_count": null,
   "metadata": {},
   "outputs": [],
   "source": [
    "print(UW_meta_patients.groupby('Gender').count()['Patient ID'])\n",
    "UW_meta_patients.boxplot(by='Gender', column='Age', patch_artist=True)\n",
    "plt.ylabel('Patient age (y)')\n",
    "plt.ylim((0,100))\n",
    "plt.xticks([1, 2], ['F(54)', 'M(71)'])\n",
    "plt.title('')\n",
    "\n",
    "plt.suptitle('')\n",
    "\n",
    "tikzplotlib.save(os.path.join(graphs_path,'UW_ageboxplot.tex'), axis_width ='5cm', axis_height ='5cm', textsize = 9)"
   ]
  },
  {
   "cell_type": "code",
   "execution_count": null,
   "metadata": {},
   "outputs": [],
   "source": [
    "UW_meta_scans = UW_meta.iloc[:,[0, 1, 2, 3, 4]]\n",
    "UW_meta_scans.columns = UW_meta_scans.columns.droplevel(0)\n",
    "UW_meta_scans = UW_meta_scans.rename(columns={'Scan ID' : 'Dataset'})\n",
    "#UW_meta_scans['Patient ID'] = UW_meta_scans['Patient ID'].apply(lambda x : f'UW_{int(x)}')\n",
    "UW_meta_scans.shape"
   ]
  },
  {
   "cell_type": "code",
   "execution_count": null,
   "metadata": {},
   "outputs": [],
   "source": [
    "print(\n",
    "    'University of Washington dataset contains {} scans of {} different patients'.format(UW_meta_scans.shape[0], UW_meta_scans['Patient ID'].nunique())\n",
    ")"
   ]
  },
  {
   "cell_type": "code",
   "execution_count": null,
   "metadata": {},
   "outputs": [],
   "source": [
    "file_paths = list()\n",
    "for f in os.walk(data_folder):\n",
    "    folder = f[0]\n",
    "    files = f[2]\n",
    "    for file in files:\n",
    "        if file.endswith('.nii.gz') and 'spine-test-data' not in folder:\n",
    "            file_paths.append(\n",
    "                os.path.join(folder, file)\n",
    "            )\n",
    "\n",
    "ls_name = []\n",
    "ls_x = []\n",
    "ls_y = []\n",
    "ls_z = []\n",
    "\n",
    "ls_Δx = []\n",
    "ls_Δy = []\n",
    "ls_Δz = []\n",
    "\n",
    "get_ID = re.compile(r'(\\d+).nii.gz$')\n",
    "\n",
    "for file_name in file_paths:\n",
    "    itkimage = sitk.ReadImage(file_name)\n",
    "    # print(int(get_ID.findall(file_name)[0]))\n",
    "    ls_name.append(int(get_ID.findall(file_name)[0]))\n",
    "    x, y, z = itkimage.GetSize()\n",
    "    Δx, Δy, Δz = itkimage.GetSpacing()\n",
    "    ls_x.append(x)\n",
    "    ls_y.append(y)\n",
    "    ls_z.append(z)\n",
    "    ls_Δx.append(Δx)\n",
    "    ls_Δy.append(Δy)\n",
    "    ls_Δz.append(Δz)\n",
    "\n",
    "UW_meta2 = pd.DataFrame(data={\n",
    "    'Dataset' : ls_name,\n",
    "    'X':ls_x,\n",
    "    'Y':ls_y,\n",
    "    'Z':ls_z,\n",
    "    'ΔX':ls_Δx,\n",
    "    'ΔY':ls_Δy,\n",
    "    'ΔZ':ls_Δz\n",
    "})\n",
    "\n",
    "UW_meta2['x_dim'] = UW_meta2.X * UW_meta2.ΔX\n",
    "UW_meta2['y_dim'] = UW_meta2.Y * UW_meta2.ΔY\n",
    "UW_meta2['z_dim'] = UW_meta2.Z * UW_meta2.ΔZ\n",
    "\n",
    "UW_meta_scans = UW_meta_scans.set_index('Dataset').join(UW_meta2.set_index('Dataset'))"
   ]
  },
  {
   "cell_type": "code",
   "execution_count": null,
   "metadata": {},
   "outputs": [],
   "source": [
    "\n",
    "image_name = file_paths[3]\n",
    "itkimage = sitk.ReadImage(image_name)\n",
    "\n",
    "fig, (ax1, ax2) = plt.subplots(1,2)\n",
    "\n",
    "plot_slice(itkimage, axis = 'z', s = 40, ax=ax1)\n",
    "ax1.set_xlabel('left-right axis (x) [mm]')\n",
    "ax1.set_ylabel('Anteroposterior axis (y) [mm]')\n",
    "\n",
    "plot_slice(itkimage, axis = 'y', s = 70, ax=ax2)\n",
    "ax2.set_xlabel('Anteroposterior axis (y) [mm]')\n",
    "ax2.set_ylabel('Craniocaudal axis (z) [mm]')\n",
    "\n",
    "ax1.set_anchor('S')\n",
    "ax2.set_anchor('S')\n",
    "\n",
    "plt.tight_layout()\n",
    "\n",
    "plt.savefig(os.path.join(graphs_path,'UW_4564688.png'))\n",
    "tikzplotlib.save(os.path.join(graphs_path,'UW_4564688.tex'), axis_width ='9cm', axis_height ='5cm', textsize = 9)"
   ]
  },
  {
   "cell_type": "code",
   "execution_count": null,
   "metadata": {},
   "outputs": [],
   "source": [
    "plt.hist(sitk.GetArrayFromImage(itkimage).flatten(), bins = 15) \n",
    "plt.title(\"Intensity histogram image 4564688\") \n",
    "tikzplotlib.save(os.path.join(graphs_path,'UW_4564688_intensityhistogram.tex'))"
   ]
  },
  {
   "cell_type": "markdown",
   "metadata": {},
   "source": [
    "Conclusion: For the xVerSeg dataset:\n",
    "\n",
    " * x = Left-right axis  \n",
    " * y = Anteroposterior axis  \n",
    " * z = Craniocaudal axis"
   ]
  },
  {
   "cell_type": "code",
   "execution_count": null,
   "metadata": {},
   "outputs": [],
   "source": [
    "UW_meta_scans"
   ]
  },
  {
   "cell_type": "code",
   "execution_count": null,
   "metadata": {},
   "outputs": [],
   "source": [
    "plt.figure()\n",
    "\n",
    "plt.subplot(2,1,1)\n",
    "\n",
    "UW_meta_scans[['x_dim', 'y_dim', 'z_dim']].plot(kind = 'box', ax=plt.gca(), patch_artist=True)\n",
    "plt.ylabel('dimension [mm]')\n",
    "plt.xticks([1, 2, 3], ['', '', ''])\n",
    "plt.title('')\n",
    "\n",
    "plt.subplot(2,1,2)\n",
    "\n",
    "UW_meta_scans[['ΔX', 'ΔY', 'ΔZ']].plot(kind = 'box', ax=plt.gca(), patch_artist=True)\n",
    "plt.ylabel('spacing [mm]')\n",
    "plt.xticks([1, 2, 3], ['left-right (x)', 'anteroposterior (y)', 'craniocaudal (z)'])\n",
    "plt.title('')\n",
    "plt.tight_layout()\n",
    "tikzplotlib.save(os.path.join(graphs_path,'UW_dimensionboxplot.tex'), axis_width ='9cm', axis_height ='7cm', textsize = 9)"
   ]
  },
  {
   "cell_type": "code",
   "execution_count": null,
   "metadata": {},
   "outputs": [],
   "source": [
    "UW_meta_scans['Patient ID'] = UW_meta_scans['Patient ID'].astype('int16')\n",
    "UW_meta_patients['Patient ID'] = UW_meta_patients['Patient ID'].astype('int16')\n",
    "\n",
    "print(f'scans length : {UW_meta_scans.shape[0]} and patients length : {UW_meta_patients.shape[0]}')\n",
    "\n",
    "metadata = UW_meta_patients[['Gender', \n",
    "                          'Age', \n",
    "                          'Patient ID']].set_index('Patient ID').join(UW_meta_scans[['Patient ID',\n",
    "                                                            'x_dim', 'y_dim', 'z_dim', 'ΔX', 'ΔY', 'ΔZ']].set_index('Patient ID'), \n",
    "                                              how='left',  lsuffix='patients', rsuffix='scans').reset_index(drop=False)\n",
    "\n",
    "print(metadata.columns)\n",
    "\n",
    "metadata['Dataset'] = 'UWashington'\n",
    "metadata['Imaging_technology'] = 'CT'\n",
    "metadata['Patient ID'] = metadata['Patient ID'].apply(lambda x : f'UW_{int(x)}')\n",
    "\n",
    "print(f'before adding the UW set : {df_all.shape[0]}')\n",
    "\n",
    "df_all = df_all.append(metadata[['x_dim', \n",
    "                                 'y_dim', \n",
    "                                 'z_dim', \n",
    "                                 'Dataset', \n",
    "                                 'Age', \n",
    "                                 'Gender',\n",
    "                                'Imaging_technology',\n",
    "                                'Patient ID', 'ΔX', 'ΔY', 'ΔZ']].rename(columns = {'x_dim' : 'Left_right',\n",
    "                                                   'y_dim' : 'Anteroposterior',\n",
    "                                                   'z_dim' : 'Craniocaudal', 'ΔY':'Anteroposterior_delta', 'ΔZ': 'Craniocaudal_delta', 'ΔX' : 'Left_right_delta'}))\n",
    "\n",
    "print(f'after adding the UW set : {df_all.shape[0]}')"
   ]
  },
  {
   "cell_type": "code",
   "execution_count": null,
   "metadata": {},
   "outputs": [],
   "source": [
    "df_all.Dataset.unique"
   ]
  },
  {
   "cell_type": "markdown",
   "metadata": {},
   "source": [
    "## Overview of all datapoints"
   ]
  },
  {
   "cell_type": "code",
   "execution_count": null,
   "metadata": {},
   "outputs": [],
   "source": [
    "df_all['Age'] = df_all['Age'].replace('Unknown', np.nan).astype('int16', errors = 'ignore')\n",
    "df_all_countGender = df_all.drop_duplicates(\n",
    "    subset=['Patient ID']).groupby('Gender').agg({'Dataset': 'count'}).rename(columns = {'Dataset' : 'amount'})\n",
    "df_all_avgAgeGender = df_all.drop_duplicates(\n",
    "    subset=['Patient ID']).dropna(how='any').groupby('Gender').agg({'Age': 'mean', 'Dataset': 'count'}).rename(columns = {'Age' : 'Average age', 'Dataset' : 'amount'})\n",
    "df_all_avgAgeDataset = df_all.drop_duplicates(\n",
    "    subset=['Patient ID']).groupby(['Dataset', 'Gender']).agg({'Age': 'mean', 'Gender': 'count'}).rename(columns = {'Gender' : 'amount'})\n",
    "\n",
    "datasets = [df_all, df_all_countGender,df_all_avgAgeGender,df_all_avgAgeDataset, df_all.drop_duplicates(subset=['Patient ID'])]\n",
    "names = ['all', 'countGender', 'avgAgeGender', 'avgAgeDataset', 'all_patients']\n",
    "\n",
    "with pd.ExcelWriter(os.path.join(tables_path,'overview.xlsx')) as writer:\n",
    "    for df, name in zip(datasets, names):\n",
    "        df.to_excel(writer, sheet_name=name)\n",
    "        df.to_latex(os.path.join(tables_path,f'df_all_{name}.tex'))\n",
    "\n",
    "print(df_all.groupby('Imaging_technology').count()['Dataset'])"
   ]
  },
  {
   "cell_type": "code",
   "execution_count": null,
   "metadata": {},
   "outputs": [],
   "source": [
    "df_all_countGender"
   ]
  },
  {
   "cell_type": "code",
   "execution_count": null,
   "metadata": {},
   "outputs": [],
   "source": [
    "df_all.groupby('Dataset').count()"
   ]
  },
  {
   "cell_type": "code",
   "execution_count": null,
   "metadata": {},
   "outputs": [],
   "source": [
    "df_all[df_all.Dataset == 'PLoS']"
   ]
  },
  {
   "cell_type": "code",
   "execution_count": null,
   "metadata": {},
   "outputs": [],
   "source": [
    "#df_all = df_all.replace('Unknown',np.nan)\n",
    "# df_all = df_all.dropna(axis=0, how='any')\n",
    "sns.set(font_scale=1.1)\n",
    "\n",
    "sns.set_style('white')\n",
    "\n",
    "df_all['Age'] = df_all['Age'].astype('int16', errors='ignore')\n",
    "\n",
    "df_patients = df_all.drop_duplicates(subset=['Patient ID'])\n",
    "g= sns.catplot(x='Gender', col = 'Dataset', y='Age', data=df_patients, palette = ['grey', 'lightgrey'], kind='box')\n",
    "#g.set_ylabel(\"patient age [y]\")\n",
    "plt.legend(bbox_to_anchor=(1.05, 1), loc=2, borderaxespad=0.)\n",
    "plt.tight_layout()\n",
    "plt.savefig(os.path.join(graphs_path,'AllDatset_ageboxplot.png'))\n",
    "tikzplotlib.save(os.path.join(graphs_path,'AllDataset_ageboxplot.tex'), axis_width ='9cm', axis_height ='5cm', textsize = 9)"
   ]
  },
  {
   "cell_type": "code",
   "execution_count": null,
   "metadata": {},
   "outputs": [],
   "source": [
    "g= sns.catplot(x='dimension', \n",
    "               row = 'Dataset', \n",
    "               y='length [mm]', \n",
    "               data=pd.melt(df_all,\n",
    "                            id_vars = ['Dataset'], var_name='dimension',\n",
    "                            value_vars=['Anteroposterior', 'Craniocaudal', 'Left_right'], value_name='length [mm]'),\n",
    "              palette = 'colorblind', kind='box')\n",
    "\n",
    "plt.tight_layout()\n",
    "tikzplotlib.save(os.path.join(graphs_path,'AllDataset_DimensionsBoxplot.tex'), axis_width ='5cm', axis_height ='5cm', textsize = 9)\n",
    "plt.savefig(os.path.join(graphs_path,'AllDataset_DimensionsBoxplot.png'))"
   ]
  },
  {
   "cell_type": "code",
   "execution_count": null,
   "metadata": {},
   "outputs": [],
   "source": [
    "g= sns.catplot(x='dimension', \n",
    "               row = 'Dataset', \n",
    "               y='spacing [mm]', \n",
    "               data=pd.melt(df_all,\n",
    "                            id_vars = ['Dataset'], var_name='dimension',\n",
    "                            value_vars=['Anteroposterior_delta', 'Craniocaudal_delta', 'Left_right_delta'], value_name='spacing [mm]').replace({'dimension':{'Anteroposterior_delta' : 'Anteroposterior', 'Craniocaudal_delta':'Craniocaudal' , 'Left_right_delta' : 'Left-right'}}),\n",
    "              palette = 'colorblind', kind='box')\n",
    "plt.tight_layout()\n",
    "tikzplotlib.save(os.path.join(graphs_path,'AllDataset_SpacingBoxplot.tex'), axis_width ='5cm', axis_height ='5cm', textsize = 15)\n",
    "plt.savefig(os.path.join(graphs_path,'AllDataset_SpacingBoxplot.png'))"
   ]
  },
  {
   "cell_type": "code",
   "execution_count": null,
   "metadata": {},
   "outputs": [],
   "source": [
    "for group in df_all.groupby('Dataset'):\n",
    "    print(group)"
   ]
  },
  {
   "cell_type": "code",
   "execution_count": null,
   "metadata": {},
   "outputs": [],
   "source": []
  }
 ],
 "metadata": {
  "interpreter": {
   "hash": "3fe3577b2054c343c338c9c919194cea9aeeb4f21c8bf6ce8a9c069aa8270cb5"
  },
  "kernelspec": {
   "display_name": "Python 3.8.6 64-bit ('thesis': conda)",
   "language": "python",
   "name": "python386jvsc74a57bd0e10d22ba302c321b21b9b695683178e0f8a286f8e94ccf14f116b4768e2ea1b3"
  },
  "language_info": {
   "codemirror_mode": {
    "name": "ipython",
    "version": 3
   },
   "file_extension": ".py",
   "mimetype": "text/x-python",
   "name": "python",
   "nbconvert_exporter": "python",
   "pygments_lexer": "ipython3",
   "version": "3.8.6"
  }
 },
 "nbformat": 4,
 "nbformat_minor": 2
}
